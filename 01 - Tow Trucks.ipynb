{
 "cells": [
  {
   "cell_type": "markdown",
   "metadata": {},
   "source": [
    "# Texas Tow Trucks\n",
    "\n",
    "We're going to scrape some [tow trucks in Texas](https://www.tdlr.texas.gov/tools_search/)."
   ]
  },
  {
   "cell_type": "markdown",
   "metadata": {},
   "source": [
    "## Import your imports"
   ]
  },
  {
   "cell_type": "code",
   "execution_count": 4,
   "metadata": {},
   "outputs": [],
   "source": [
    "from selenium import webdriver\n",
    "from selenium.webdriver.common.keys import Keys\n",
    "from selenium.webdriver.support.ui import Select\n",
    "from selenium.webdriver.support.ui import WebDriverWait\n",
    "\n",
    "import pandas as pd"
   ]
  },
  {
   "cell_type": "markdown",
   "metadata": {},
   "source": [
    "## Search for the TLDR Number `006179570C`, and scrape the information on that company\n",
    "\n",
    "Using [license information system](https://www.tdlr.texas.gov/tools_search/), find information about the tow truck number above, displaying the\n",
    "\n",
    "- The business name\n",
    "- Owner/operator\n",
    "- Phone number\n",
    "- License status (Active, Expired, Etc)\n",
    "- Physical address\n",
    "\n",
    "If you can't figure a 'nice' way to locate something, your two last options might be:\n",
    "\n",
    "- **Find a \"parent\" element, then dig inside**\n",
    "- **Find all of a type of element** (like we did with `td` before) and get the `[0]`, `[1]`, `[2]`, etc\n",
    "- **XPath** (inspect an element, Copy > Copy XPath)\n",
    "\n",
    "These kinds of techniques tend to break when you're on other result pages, but... maybe not! You won't know until you try.\n",
    "\n",
    "> - *TIP: When you use xpath, you CANNOT use double quotes or Python will get confused. Use single quotes.*\n",
    "> - *TIP: You can clean your data up if you want to, or leave it dirty to clean later*\n",
    "> - *TIP: The address part can be tough, but you have a few options. You can use a combination of `.split` and list slicing to clean it now, or clean it later in the dataframe with regular expressions. Or other options, too, probably*"
   ]
  },
  {
   "cell_type": "code",
   "execution_count": 5,
   "metadata": {},
   "outputs": [],
   "source": [
    "driver = webdriver.Chrome()"
   ]
  },
  {
   "cell_type": "code",
   "execution_count": 6,
   "metadata": {},
   "outputs": [],
   "source": [
    "driver.get('https://www.tdlr.texas.gov/tools_search/')"
   ]
  },
  {
   "cell_type": "code",
   "execution_count": 7,
   "metadata": {},
   "outputs": [],
   "source": [
    "text_input = driver.find_element_by_id('mcrdata')"
   ]
  },
  {
   "cell_type": "code",
   "execution_count": 8,
   "metadata": {},
   "outputs": [],
   "source": [
    "text_input.send_keys('006179570C')"
   ]
  },
  {
   "cell_type": "code",
   "execution_count": 9,
   "metadata": {},
   "outputs": [],
   "source": [
    "button = driver.find_element_by_xpath('//*[@id=\"submit3\"]/b')\n",
    "button.click()"
   ]
  },
  {
   "cell_type": "code",
   "execution_count": 10,
   "metadata": {},
   "outputs": [],
   "source": [
    "name = driver.find_element_by_xpath('//*[@id=\"t1\"]/tbody/tr/td/font/table[2]/tbody/tr[2]/td[1]').text"
   ]
  },
  {
   "cell_type": "code",
   "execution_count": 11,
   "metadata": {},
   "outputs": [],
   "source": [
    "owner = driver.find_element_by_xpath('//*[@id=\"t1\"]/tbody/tr/td/font/table[2]/tbody/tr[3]/td[1]').text"
   ]
  },
  {
   "cell_type": "code",
   "execution_count": 12,
   "metadata": {},
   "outputs": [],
   "source": [
    "phone_no = driver.find_element_by_xpath('//*[@id=\"t1\"]/tbody/tr/td/font/table[2]/tbody/tr[4]/td[1]').text"
   ]
  },
  {
   "cell_type": "code",
   "execution_count": null,
   "metadata": {},
   "outputs": [],
   "source": []
  },
  {
   "cell_type": "code",
   "execution_count": 13,
   "metadata": {},
   "outputs": [],
   "source": [
    "lisence_status = driver.find_element_by_xpath('//*[@id=\"t1\"]/tbody/tr/td/font/table[3]/tbody/tr[1]/td[2]/font').text"
   ]
  },
  {
   "cell_type": "code",
   "execution_count": 14,
   "metadata": {},
   "outputs": [],
   "source": [
    "address = driver.find_element_by_xpath('//*[@id=\"t1\"]/tbody/tr/td/font/table[3]/tbody/tr[2]/td[2]').text"
   ]
  },
  {
   "cell_type": "code",
   "execution_count": 15,
   "metadata": {},
   "outputs": [
    {
     "data": {
      "text/plain": [
       "'Carrier Type:  Tow Truck Company\\nNumber of Active Tow Trucks:   0\\n\\nAddress Information\\nMailing:\\n13619 BRETT JACKSON RD\\nFORT WORTH, TX. 76179\\n\\nPhysical:\\n13619 BRETT JACKSON RD.\\nFORT WORTH, TX. 76179'"
      ]
     },
     "execution_count": 15,
     "metadata": {},
     "output_type": "execute_result"
    }
   ],
   "source": [
    "address"
   ]
  },
  {
   "cell_type": "code",
   "execution_count": 16,
   "metadata": {},
   "outputs": [
    {
     "data": {
      "text/plain": [
       "'\\n13619 BRETT JACKSON RD.\\nFORT WORTH, TX. 76179'"
      ]
     },
     "execution_count": 16,
     "metadata": {},
     "output_type": "execute_result"
    }
   ],
   "source": [
    "address[-46:]"
   ]
  },
  {
   "cell_type": "code",
   "execution_count": 17,
   "metadata": {},
   "outputs": [
    {
     "data": {
      "text/plain": [
       "['BRETT', 'JACKSON', 'RD\\nFORT', 'WORTH,', 'TX.']"
      ]
     },
     "execution_count": 17,
     "metadata": {},
     "output_type": "execute_result"
    }
   ],
   "source": [
    "address_info = address.split(\" \")[-12:-7]\n",
    "address_info"
   ]
  },
  {
   "cell_type": "markdown",
   "metadata": {},
   "source": [
    "# Adapt this to work inside of a single cell\n",
    "\n",
    "Double-check that it works. You want it to print out all of the details."
   ]
  },
  {
   "cell_type": "code",
   "execution_count": 18,
   "metadata": {},
   "outputs": [
    {
     "name": "stdout",
     "output_type": "stream",
     "text": [
      "Name:   B.D. SMITH TOWING\n",
      "Owner/Officer:   BRANDT SMITH / OWNER\n",
      "Phone:   8173330706\n",
      "Expired\n",
      "['BRETT', 'JACKSON', 'RD\\nFORT', 'WORTH,', 'TX.']\n"
     ]
    }
   ],
   "source": [
    "driver = webdriver.Chrome()\n",
    "driver.get('https://www.tdlr.texas.gov/tools_search/mccs_display.asp?mcrnumber=006179570C')\n",
    "driver.get('https://www.tdlr.texas.gov/tools_search/mccs_display.asp?mcrnumber=006179570C')\n",
    "\n",
    "name = driver.find_element_by_xpath('//*[@id=\"t1\"]/tbody/tr/td/font/table[2]/tbody/tr[2]/td[1]').text\n",
    "owner = driver.find_element_by_xpath('//*[@id=\"t1\"]/tbody/tr/td/font/table[2]/tbody/tr[3]/td[1]').text\n",
    "phone_no = driver.find_element_by_xpath('//*[@id=\"t1\"]/tbody/tr/td/font/table[2]/tbody/tr[4]/td[1]').text\n",
    "lisence_status = driver.find_element_by_xpath('//*[@id=\"t1\"]/tbody/tr/td/font/table[3]/tbody/tr[1]/td[2]/font').text\n",
    "address_info = address.split(\" \")[-12:-7]\n",
    "\n",
    "print(name)\n",
    "print(owner)\n",
    "print(phone_no)\n",
    "print(lisence_status)\n",
    "print(address_info)\n",
    "\n"
   ]
  },
  {
   "cell_type": "markdown",
   "metadata": {},
   "source": [
    "# Using .apply to find data about SEVERAL tow truck companies\n",
    "\n",
    "The file `trucks-subset.csv` has information about the trucks, we'll use it to find the pages to scrape.\n",
    "\n",
    "### Open up `trucks-subset.csv` and save it into a dataframe"
   ]
  },
  {
   "cell_type": "code",
   "execution_count": 19,
   "metadata": {},
   "outputs": [],
   "source": [
    "df = pd.read_csv('trucks-subset.csv')"
   ]
  },
  {
   "cell_type": "code",
   "execution_count": null,
   "metadata": {},
   "outputs": [],
   "source": []
  },
  {
   "cell_type": "code",
   "execution_count": null,
   "metadata": {},
   "outputs": [],
   "source": []
  },
  {
   "cell_type": "markdown",
   "metadata": {},
   "source": [
    "## Go through each row of the dataset, displaying the URL you will need to scrape for the information on that row\n",
    "\n",
    "You don't have to actually use the search form for each of these - look at the URL you're on, it has the number in it!\n",
    "\n",
    "For example, one URL might look like `https://www.tdlr.texas.gov/tools_search/mccs_display.asp?mcrnumber=006495492C`.\n",
    "\n",
    "- *TIP: Use .apply and a function*\n",
    "- *TIP: Unlike the Yelp example, you'll need to build this URL from pieces*\n",
    "- *TIP: You probably don't want to `print` unless you're going to fix it for the next question \n",
    "- *TIP: pandas won't showing you the entire url! Run `pd.set_option('display.max_colwidth', -1)` to display aaaalll of the text in a cell*"
   ]
  },
  {
   "cell_type": "code",
   "execution_count": 28,
   "metadata": {},
   "outputs": [
    {
     "data": {
      "text/html": [
       "<div>\n",
       "<style scoped>\n",
       "    .dataframe tbody tr th:only-of-type {\n",
       "        vertical-align: middle;\n",
       "    }\n",
       "\n",
       "    .dataframe tbody tr th {\n",
       "        vertical-align: top;\n",
       "    }\n",
       "\n",
       "    .dataframe thead th {\n",
       "        text-align: right;\n",
       "    }\n",
       "</style>\n",
       "<table border=\"1\" class=\"dataframe\">\n",
       "  <thead>\n",
       "    <tr style=\"text-align: right;\">\n",
       "      <th></th>\n",
       "      <th>TDLR Number</th>\n",
       "    </tr>\n",
       "  </thead>\n",
       "  <tbody>\n",
       "    <tr>\n",
       "      <th>0</th>\n",
       "      <td>006507931C</td>\n",
       "    </tr>\n",
       "    <tr>\n",
       "      <th>1</th>\n",
       "      <td>006179570C</td>\n",
       "    </tr>\n",
       "    <tr>\n",
       "      <th>2</th>\n",
       "      <td>006502097C</td>\n",
       "    </tr>\n",
       "  </tbody>\n",
       "</table>\n",
       "</div>"
      ],
      "text/plain": [
       "  TDLR Number\n",
       "0  006507931C\n",
       "1  006179570C\n",
       "2  006502097C"
      ]
     },
     "execution_count": 28,
     "metadata": {},
     "output_type": "execute_result"
    }
   ],
   "source": [
    "df.head()"
   ]
  },
  {
   "cell_type": "code",
   "execution_count": 39,
   "metadata": {},
   "outputs": [],
   "source": [
    "def get_url_info(row):\n",
    "    \n",
    "    url = \"https://www.tdlr.texas.gov/tools_search/mccs_display.asp?mcrnumber=\" + row['TDLR Number']\n",
    "    \n",
    "    return url \n",
    "\n",
    "    \n",
    "    \n",
    "    \n"
   ]
  },
  {
   "cell_type": "code",
   "execution_count": 40,
   "metadata": {},
   "outputs": [],
   "source": [
    "pd.set_option('display.max_colwidth', -1)"
   ]
  },
  {
   "cell_type": "markdown",
   "metadata": {},
   "source": [
    "### Save this URL into a new column of your dataframe, called `url`\n",
    "\n",
    "- *TIP: Use a function and `.apply`*\n",
    "- *TIP: Be sure to use `return`*"
   ]
  },
  {
   "cell_type": "code",
   "execution_count": 43,
   "metadata": {},
   "outputs": [],
   "source": [
    "df['URL'] = df.apply(get_url_info, axis=1)\n"
   ]
  },
  {
   "cell_type": "code",
   "execution_count": 44,
   "metadata": {},
   "outputs": [
    {
     "data": {
      "text/html": [
       "<div>\n",
       "<style scoped>\n",
       "    .dataframe tbody tr th:only-of-type {\n",
       "        vertical-align: middle;\n",
       "    }\n",
       "\n",
       "    .dataframe tbody tr th {\n",
       "        vertical-align: top;\n",
       "    }\n",
       "\n",
       "    .dataframe thead th {\n",
       "        text-align: right;\n",
       "    }\n",
       "</style>\n",
       "<table border=\"1\" class=\"dataframe\">\n",
       "  <thead>\n",
       "    <tr style=\"text-align: right;\">\n",
       "      <th></th>\n",
       "      <th>TDLR Number</th>\n",
       "      <th>URL</th>\n",
       "    </tr>\n",
       "  </thead>\n",
       "  <tbody>\n",
       "    <tr>\n",
       "      <th>0</th>\n",
       "      <td>006507931C</td>\n",
       "      <td>https://www.tdlr.texas.gov/tools_search/mccs_display.asp?mcrnumber=006507931C</td>\n",
       "    </tr>\n",
       "    <tr>\n",
       "      <th>1</th>\n",
       "      <td>006179570C</td>\n",
       "      <td>https://www.tdlr.texas.gov/tools_search/mccs_display.asp?mcrnumber=006179570C</td>\n",
       "    </tr>\n",
       "    <tr>\n",
       "      <th>2</th>\n",
       "      <td>006502097C</td>\n",
       "      <td>https://www.tdlr.texas.gov/tools_search/mccs_display.asp?mcrnumber=006502097C</td>\n",
       "    </tr>\n",
       "  </tbody>\n",
       "</table>\n",
       "</div>"
      ],
      "text/plain": [
       "  TDLR Number  \\\n",
       "0  006507931C   \n",
       "1  006179570C   \n",
       "2  006502097C   \n",
       "\n",
       "                                                                             URL  \n",
       "0  https://www.tdlr.texas.gov/tools_search/mccs_display.asp?mcrnumber=006507931C  \n",
       "1  https://www.tdlr.texas.gov/tools_search/mccs_display.asp?mcrnumber=006179570C  \n",
       "2  https://www.tdlr.texas.gov/tools_search/mccs_display.asp?mcrnumber=006502097C  "
      ]
     },
     "execution_count": 44,
     "metadata": {},
     "output_type": "execute_result"
    }
   ],
   "source": [
    "df.head()"
   ]
  },
  {
   "cell_type": "code",
   "execution_count": null,
   "metadata": {},
   "outputs": [],
   "source": []
  },
  {
   "cell_type": "markdown",
   "metadata": {},
   "source": [
    "## Go through each row of the dataset, printing out information about each tow truck company.\n",
    "\n",
    "Now will be **scraping** inside of your function.\n",
    "\n",
    "- The business name\n",
    "- Owner/operator\n",
    "- Phone number\n",
    "- License status (Active, Expired, Etc)\n",
    "- Physical address\n",
    "\n",
    "Just print it out for now.\n",
    "\n",
    "- *TIP: use .apply*\n",
    "- *TIP: You'll be using the code you wrote before, but converted into a function*\n",
    "- *TIP: Remember how the TDLR Number is in the URL? You don't need to do the form submission if you don't want!*\n",
    "- *TIP: Make sure you adjust any variables so you don't scrape the same page again and again*"
   ]
  },
  {
   "cell_type": "code",
   "execution_count": 55,
   "metadata": {},
   "outputs": [],
   "source": [
    "def get_info_tow_truck(row):\n",
    "\n",
    "    driver.get(row['URL'])\n",
    "\n",
    "    name = driver.find_element_by_xpath('//*[@id=\"t1\"]/tbody/tr/td/font/table[2]/tbody/tr[2]/td[1]').text\n",
    "    owner = driver.find_element_by_xpath('//*[@id=\"t1\"]/tbody/tr/td/font/table[2]/tbody/tr[3]/td[1]').text\n",
    "    phone_no = driver.find_element_by_xpath('//*[@id=\"t1\"]/tbody/tr/td/font/table[2]/tbody/tr[4]/td[1]').text\n",
    "    lisence_status = driver.find_element_by_xpath('//*[@id=\"t1\"]/tbody/tr/td/font/table[3]/tbody/tr[1]/td[2]/font').text\n",
    "    address_info = address.split(\" \")[-12:-7]\n",
    "\n",
    "    return pd.Series({\n",
    "        'name': name,\n",
    "        'owner': owner,\n",
    "        'phone': phone_no,\n",
    "        'status':lisence_status,\n",
    "        'address': address_info\n",
    "    }) \n",
    "\n"
   ]
  },
  {
   "cell_type": "code",
   "execution_count": 56,
   "metadata": {},
   "outputs": [
    {
     "data": {
      "text/html": [
       "<div>\n",
       "<style scoped>\n",
       "    .dataframe tbody tr th:only-of-type {\n",
       "        vertical-align: middle;\n",
       "    }\n",
       "\n",
       "    .dataframe tbody tr th {\n",
       "        vertical-align: top;\n",
       "    }\n",
       "\n",
       "    .dataframe thead th {\n",
       "        text-align: right;\n",
       "    }\n",
       "</style>\n",
       "<table border=\"1\" class=\"dataframe\">\n",
       "  <thead>\n",
       "    <tr style=\"text-align: right;\">\n",
       "      <th></th>\n",
       "      <th>address</th>\n",
       "      <th>name</th>\n",
       "      <th>owner</th>\n",
       "      <th>phone</th>\n",
       "      <th>status</th>\n",
       "      <th>TDLR Number</th>\n",
       "      <th>URL</th>\n",
       "    </tr>\n",
       "  </thead>\n",
       "  <tbody>\n",
       "    <tr>\n",
       "      <th>0</th>\n",
       "      <td>[BRETT, JACKSON, RD\\nFORT, WORTH,, TX.]</td>\n",
       "      <td>Name:   AUGUSTUS E SMITH</td>\n",
       "      <td>Owner/Officer:   AUGUSTUS EUGENE SMITH / OWNER</td>\n",
       "      <td>Phone:   9032276464</td>\n",
       "      <td>Active</td>\n",
       "      <td>006507931C</td>\n",
       "      <td>https://www.tdlr.texas.gov/tools_search/mccs_display.asp?mcrnumber=006507931C</td>\n",
       "    </tr>\n",
       "    <tr>\n",
       "      <th>1</th>\n",
       "      <td>[BRETT, JACKSON, RD\\nFORT, WORTH,, TX.]</td>\n",
       "      <td>Name:   B.D. SMITH TOWING</td>\n",
       "      <td>Owner/Officer:   BRANDT SMITH / OWNER</td>\n",
       "      <td>Phone:   8173330706</td>\n",
       "      <td>Expired</td>\n",
       "      <td>006179570C</td>\n",
       "      <td>https://www.tdlr.texas.gov/tools_search/mccs_display.asp?mcrnumber=006179570C</td>\n",
       "    </tr>\n",
       "    <tr>\n",
       "      <th>2</th>\n",
       "      <td>[BRETT, JACKSON, RD\\nFORT, WORTH,, TX.]</td>\n",
       "      <td>Name:   BARRY MICHAEL SMITH</td>\n",
       "      <td>Owner/Officer:   BARRY MICHAEL SMITH / OWNER</td>\n",
       "      <td>Phone:   8066544404</td>\n",
       "      <td>Active</td>\n",
       "      <td>006502097C</td>\n",
       "      <td>https://www.tdlr.texas.gov/tools_search/mccs_display.asp?mcrnumber=006502097C</td>\n",
       "    </tr>\n",
       "  </tbody>\n",
       "</table>\n",
       "</div>"
      ],
      "text/plain": [
       "                                   address                         name  \\\n",
       "0  [BRETT, JACKSON, RD\\nFORT, WORTH,, TX.]  Name:   AUGUSTUS E SMITH      \n",
       "1  [BRETT, JACKSON, RD\\nFORT, WORTH,, TX.]  Name:   B.D. SMITH TOWING     \n",
       "2  [BRETT, JACKSON, RD\\nFORT, WORTH,, TX.]  Name:   BARRY MICHAEL SMITH   \n",
       "\n",
       "                                            owner                phone  \\\n",
       "0  Owner/Officer:   AUGUSTUS EUGENE SMITH / OWNER  Phone:   9032276464   \n",
       "1  Owner/Officer:   BRANDT SMITH / OWNER           Phone:   8173330706   \n",
       "2  Owner/Officer:   BARRY MICHAEL SMITH / OWNER    Phone:   8066544404   \n",
       "\n",
       "    status TDLR Number  \\\n",
       "0  Active   006507931C   \n",
       "1  Expired  006179570C   \n",
       "2  Active   006502097C   \n",
       "\n",
       "                                                                             URL  \n",
       "0  https://www.tdlr.texas.gov/tools_search/mccs_display.asp?mcrnumber=006507931C  \n",
       "1  https://www.tdlr.texas.gov/tools_search/mccs_display.asp?mcrnumber=006179570C  \n",
       "2  https://www.tdlr.texas.gov/tools_search/mccs_display.asp?mcrnumber=006502097C  "
      ]
     },
     "execution_count": 56,
     "metadata": {},
     "output_type": "execute_result"
    }
   ],
   "source": [
    "new_df = df.head().apply(get_info_tow_truck, axis=1).join(df)\n",
    "new_df"
   ]
  },
  {
   "cell_type": "code",
   "execution_count": null,
   "metadata": {},
   "outputs": [],
   "source": []
  },
  {
   "cell_type": "markdown",
   "metadata": {},
   "source": [
    "## Scrape the following information for each row of the dataset, and save it into new columns in your dataframe.\n",
    "\n",
    "- The business name\n",
    "- Owner/operator\n",
    "- Phone number\n",
    "- License status (Active, Expired, Etc)\n",
    "- Physical address\n",
    "\n",
    "It's basically what we did before, but using the function a little differently.\n",
    "\n",
    "- *TIP: Same as above, but you'll be returning a `pd.Series` and the `.apply` line is going to be a lot longer*\n",
    "- *TIP: Save it to a new dataframe!*\n",
    "- *TIP: Make sure you change your `df` variable names correctly if you're cutting and pasting - there are a few so it can get tricky*"
   ]
  },
  {
   "cell_type": "code",
   "execution_count": null,
   "metadata": {},
   "outputs": [],
   "source": []
  },
  {
   "cell_type": "code",
   "execution_count": null,
   "metadata": {},
   "outputs": [],
   "source": []
  },
  {
   "cell_type": "code",
   "execution_count": null,
   "metadata": {},
   "outputs": [],
   "source": []
  },
  {
   "cell_type": "markdown",
   "metadata": {},
   "source": [
    "### Save your dataframe as a CSV named `tow-trucks-extended.csv`"
   ]
  },
  {
   "cell_type": "code",
   "execution_count": 57,
   "metadata": {},
   "outputs": [],
   "source": [
    "new_df.to_csv(\"tow-trucks-extended.csv\", index=False)"
   ]
  },
  {
   "cell_type": "markdown",
   "metadata": {},
   "source": [
    "### Re-open your dataframe to confirm you didn't save any extra weird columns"
   ]
  },
  {
   "cell_type": "code",
   "execution_count": 58,
   "metadata": {},
   "outputs": [
    {
     "data": {
      "text/html": [
       "<div>\n",
       "<style scoped>\n",
       "    .dataframe tbody tr th:only-of-type {\n",
       "        vertical-align: middle;\n",
       "    }\n",
       "\n",
       "    .dataframe tbody tr th {\n",
       "        vertical-align: top;\n",
       "    }\n",
       "\n",
       "    .dataframe thead th {\n",
       "        text-align: right;\n",
       "    }\n",
       "</style>\n",
       "<table border=\"1\" class=\"dataframe\">\n",
       "  <thead>\n",
       "    <tr style=\"text-align: right;\">\n",
       "      <th></th>\n",
       "      <th>address</th>\n",
       "      <th>name</th>\n",
       "      <th>owner</th>\n",
       "      <th>phone</th>\n",
       "      <th>status</th>\n",
       "      <th>TDLR Number</th>\n",
       "      <th>URL</th>\n",
       "    </tr>\n",
       "  </thead>\n",
       "  <tbody>\n",
       "    <tr>\n",
       "      <th>0</th>\n",
       "      <td>[BRETT, JACKSON, RD\\nFORT, WORTH,, TX.]</td>\n",
       "      <td>Name:   AUGUSTUS E SMITH</td>\n",
       "      <td>Owner/Officer:   AUGUSTUS EUGENE SMITH / OWNER</td>\n",
       "      <td>Phone:   9032276464</td>\n",
       "      <td>Active</td>\n",
       "      <td>006507931C</td>\n",
       "      <td>https://www.tdlr.texas.gov/tools_search/mccs_display.asp?mcrnumber=006507931C</td>\n",
       "    </tr>\n",
       "    <tr>\n",
       "      <th>1</th>\n",
       "      <td>[BRETT, JACKSON, RD\\nFORT, WORTH,, TX.]</td>\n",
       "      <td>Name:   B.D. SMITH TOWING</td>\n",
       "      <td>Owner/Officer:   BRANDT SMITH / OWNER</td>\n",
       "      <td>Phone:   8173330706</td>\n",
       "      <td>Expired</td>\n",
       "      <td>006179570C</td>\n",
       "      <td>https://www.tdlr.texas.gov/tools_search/mccs_display.asp?mcrnumber=006179570C</td>\n",
       "    </tr>\n",
       "    <tr>\n",
       "      <th>2</th>\n",
       "      <td>[BRETT, JACKSON, RD\\nFORT, WORTH,, TX.]</td>\n",
       "      <td>Name:   BARRY MICHAEL SMITH</td>\n",
       "      <td>Owner/Officer:   BARRY MICHAEL SMITH / OWNER</td>\n",
       "      <td>Phone:   8066544404</td>\n",
       "      <td>Active</td>\n",
       "      <td>006502097C</td>\n",
       "      <td>https://www.tdlr.texas.gov/tools_search/mccs_display.asp?mcrnumber=006502097C</td>\n",
       "    </tr>\n",
       "  </tbody>\n",
       "</table>\n",
       "</div>"
      ],
      "text/plain": [
       "                                   address                         name  \\\n",
       "0  [BRETT, JACKSON, RD\\nFORT, WORTH,, TX.]  Name:   AUGUSTUS E SMITH      \n",
       "1  [BRETT, JACKSON, RD\\nFORT, WORTH,, TX.]  Name:   B.D. SMITH TOWING     \n",
       "2  [BRETT, JACKSON, RD\\nFORT, WORTH,, TX.]  Name:   BARRY MICHAEL SMITH   \n",
       "\n",
       "                                            owner                phone  \\\n",
       "0  Owner/Officer:   AUGUSTUS EUGENE SMITH / OWNER  Phone:   9032276464   \n",
       "1  Owner/Officer:   BRANDT SMITH / OWNER           Phone:   8173330706   \n",
       "2  Owner/Officer:   BARRY MICHAEL SMITH / OWNER    Phone:   8066544404   \n",
       "\n",
       "    status TDLR Number  \\\n",
       "0  Active   006507931C   \n",
       "1  Expired  006179570C   \n",
       "2  Active   006502097C   \n",
       "\n",
       "                                                                             URL  \n",
       "0  https://www.tdlr.texas.gov/tools_search/mccs_display.asp?mcrnumber=006507931C  \n",
       "1  https://www.tdlr.texas.gov/tools_search/mccs_display.asp?mcrnumber=006179570C  \n",
       "2  https://www.tdlr.texas.gov/tools_search/mccs_display.asp?mcrnumber=006502097C  "
      ]
     },
     "execution_count": 58,
     "metadata": {},
     "output_type": "execute_result"
    }
   ],
   "source": [
    "new_df.head()"
   ]
  },
  {
   "cell_type": "markdown",
   "metadata": {},
   "source": [
    "## Process the entire `tow-trucks.csv` file\n",
    "\n",
    "We just did it on a short subset so far. Now try it on all of the tow trucks. **Save as the same filename as before**"
   ]
  },
  {
   "cell_type": "code",
   "execution_count": 59,
   "metadata": {},
   "outputs": [],
   "source": [
    "df = pd.read_csv('tow-trucks.csv')"
   ]
  },
  {
   "cell_type": "code",
   "execution_count": 60,
   "metadata": {},
   "outputs": [
    {
     "data": {
      "text/html": [
       "<div>\n",
       "<style scoped>\n",
       "    .dataframe tbody tr th:only-of-type {\n",
       "        vertical-align: middle;\n",
       "    }\n",
       "\n",
       "    .dataframe tbody tr th {\n",
       "        vertical-align: top;\n",
       "    }\n",
       "\n",
       "    .dataframe thead th {\n",
       "        text-align: right;\n",
       "    }\n",
       "</style>\n",
       "<table border=\"1\" class=\"dataframe\">\n",
       "  <thead>\n",
       "    <tr style=\"text-align: right;\">\n",
       "      <th></th>\n",
       "      <th>TDLR Number</th>\n",
       "    </tr>\n",
       "  </thead>\n",
       "  <tbody>\n",
       "    <tr>\n",
       "      <th>0</th>\n",
       "      <td>006507931C</td>\n",
       "    </tr>\n",
       "    <tr>\n",
       "      <th>1</th>\n",
       "      <td>006179570C</td>\n",
       "    </tr>\n",
       "    <tr>\n",
       "      <th>2</th>\n",
       "      <td>006502097C</td>\n",
       "    </tr>\n",
       "    <tr>\n",
       "      <th>3</th>\n",
       "      <td>006494912C</td>\n",
       "    </tr>\n",
       "    <tr>\n",
       "      <th>4</th>\n",
       "      <td>0649468VSF</td>\n",
       "    </tr>\n",
       "  </tbody>\n",
       "</table>\n",
       "</div>"
      ],
      "text/plain": [
       "  TDLR Number\n",
       "0  006507931C\n",
       "1  006179570C\n",
       "2  006502097C\n",
       "3  006494912C\n",
       "4  0649468VSF"
      ]
     },
     "execution_count": 60,
     "metadata": {},
     "output_type": "execute_result"
    }
   ],
   "source": [
    "df.head()"
   ]
  },
  {
   "cell_type": "code",
   "execution_count": 61,
   "metadata": {},
   "outputs": [],
   "source": [
    "def get_url_info(row):\n",
    "    \n",
    "    url = \"https://www.tdlr.texas.gov/tools_search/mccs_display.asp?mcrnumber=\" + row['TDLR Number']\n",
    "    \n",
    "    return url \n"
   ]
  },
  {
   "cell_type": "code",
   "execution_count": 62,
   "metadata": {},
   "outputs": [],
   "source": [
    "df['URL'] = df.apply(get_url_info, axis=1)"
   ]
  },
  {
   "cell_type": "code",
   "execution_count": 63,
   "metadata": {},
   "outputs": [],
   "source": [
    "def get_info_tow_truck(row):\n",
    "\n",
    "    driver.get(row['URL'])\n",
    "\n",
    "    name = driver.find_element_by_xpath('//*[@id=\"t1\"]/tbody/tr/td/font/table[2]/tbody/tr[2]/td[1]').text\n",
    "    owner = driver.find_element_by_xpath('//*[@id=\"t1\"]/tbody/tr/td/font/table[2]/tbody/tr[3]/td[1]').text\n",
    "    phone_no = driver.find_element_by_xpath('//*[@id=\"t1\"]/tbody/tr/td/font/table[2]/tbody/tr[4]/td[1]').text\n",
    "    lisence_status = driver.find_element_by_xpath('//*[@id=\"t1\"]/tbody/tr/td/font/table[3]/tbody/tr[1]/td[2]/font').text\n",
    "    address_info = address.split(\" \")[-12:-7]\n",
    "\n",
    "    return pd.Series({\n",
    "        'name': name,\n",
    "        'owner': owner,\n",
    "        'phone': phone_no,\n",
    "        'status':lisence_status,\n",
    "        'address': address_info\n",
    "    }) \n"
   ]
  },
  {
   "cell_type": "code",
   "execution_count": 64,
   "metadata": {},
   "outputs": [
    {
     "data": {
      "text/html": [
       "<div>\n",
       "<style scoped>\n",
       "    .dataframe tbody tr th:only-of-type {\n",
       "        vertical-align: middle;\n",
       "    }\n",
       "\n",
       "    .dataframe tbody tr th {\n",
       "        vertical-align: top;\n",
       "    }\n",
       "\n",
       "    .dataframe thead th {\n",
       "        text-align: right;\n",
       "    }\n",
       "</style>\n",
       "<table border=\"1\" class=\"dataframe\">\n",
       "  <thead>\n",
       "    <tr style=\"text-align: right;\">\n",
       "      <th></th>\n",
       "      <th>address</th>\n",
       "      <th>name</th>\n",
       "      <th>owner</th>\n",
       "      <th>phone</th>\n",
       "      <th>status</th>\n",
       "      <th>TDLR Number</th>\n",
       "      <th>URL</th>\n",
       "    </tr>\n",
       "  </thead>\n",
       "  <tbody>\n",
       "    <tr>\n",
       "      <th>0</th>\n",
       "      <td>[BRETT, JACKSON, RD\\nFORT, WORTH,, TX.]</td>\n",
       "      <td>Name:   AUGUSTUS E SMITH</td>\n",
       "      <td>Owner/Officer:   AUGUSTUS EUGENE SMITH / OWNER</td>\n",
       "      <td>Phone:   9032276464</td>\n",
       "      <td>Active</td>\n",
       "      <td>006507931C</td>\n",
       "      <td>https://www.tdlr.texas.gov/tools_search/mccs_display.asp?mcrnumber=006507931C</td>\n",
       "    </tr>\n",
       "    <tr>\n",
       "      <th>1</th>\n",
       "      <td>[BRETT, JACKSON, RD\\nFORT, WORTH,, TX.]</td>\n",
       "      <td>Name:   B.D. SMITH TOWING</td>\n",
       "      <td>Owner/Officer:   BRANDT SMITH / OWNER</td>\n",
       "      <td>Phone:   8173330706</td>\n",
       "      <td>Expired</td>\n",
       "      <td>006179570C</td>\n",
       "      <td>https://www.tdlr.texas.gov/tools_search/mccs_display.asp?mcrnumber=006179570C</td>\n",
       "    </tr>\n",
       "    <tr>\n",
       "      <th>2</th>\n",
       "      <td>[BRETT, JACKSON, RD\\nFORT, WORTH,, TX.]</td>\n",
       "      <td>Name:   BARRY MICHAEL SMITH</td>\n",
       "      <td>Owner/Officer:   BARRY MICHAEL SMITH / OWNER</td>\n",
       "      <td>Phone:   8066544404</td>\n",
       "      <td>Active</td>\n",
       "      <td>006502097C</td>\n",
       "      <td>https://www.tdlr.texas.gov/tools_search/mccs_display.asp?mcrnumber=006502097C</td>\n",
       "    </tr>\n",
       "    <tr>\n",
       "      <th>3</th>\n",
       "      <td>[BRETT, JACKSON, RD\\nFORT, WORTH,, TX.]</td>\n",
       "      <td>Name:   HEATH SMITH</td>\n",
       "      <td>Owner/Officer:   HEATH A SMITH / OWNER</td>\n",
       "      <td>Phone:   940-552-0687</td>\n",
       "      <td>Expired</td>\n",
       "      <td>006494912C</td>\n",
       "      <td>https://www.tdlr.texas.gov/tools_search/mccs_display.asp?mcrnumber=006494912C</td>\n",
       "    </tr>\n",
       "    <tr>\n",
       "      <th>4</th>\n",
       "      <td>[BRETT, JACKSON, RD\\nFORT, WORTH,, TX.]</td>\n",
       "      <td>Name:   HEATH SMITH</td>\n",
       "      <td>Owner/Officer:   HEATH A SMITH / OWNER</td>\n",
       "      <td>Phone:   9405520687</td>\n",
       "      <td>Expired</td>\n",
       "      <td>0649468VSF</td>\n",
       "      <td>https://www.tdlr.texas.gov/tools_search/mccs_display.asp?mcrnumber=0649468VSF</td>\n",
       "    </tr>\n",
       "  </tbody>\n",
       "</table>\n",
       "</div>"
      ],
      "text/plain": [
       "                                   address                         name  \\\n",
       "0  [BRETT, JACKSON, RD\\nFORT, WORTH,, TX.]  Name:   AUGUSTUS E SMITH      \n",
       "1  [BRETT, JACKSON, RD\\nFORT, WORTH,, TX.]  Name:   B.D. SMITH TOWING     \n",
       "2  [BRETT, JACKSON, RD\\nFORT, WORTH,, TX.]  Name:   BARRY MICHAEL SMITH   \n",
       "3  [BRETT, JACKSON, RD\\nFORT, WORTH,, TX.]  Name:   HEATH SMITH           \n",
       "4  [BRETT, JACKSON, RD\\nFORT, WORTH,, TX.]  Name:   HEATH SMITH           \n",
       "\n",
       "                                            owner                  phone  \\\n",
       "0  Owner/Officer:   AUGUSTUS EUGENE SMITH / OWNER  Phone:   9032276464     \n",
       "1  Owner/Officer:   BRANDT SMITH / OWNER           Phone:   8173330706     \n",
       "2  Owner/Officer:   BARRY MICHAEL SMITH / OWNER    Phone:   8066544404     \n",
       "3  Owner/Officer:   HEATH A SMITH / OWNER          Phone:   940-552-0687   \n",
       "4  Owner/Officer:   HEATH A SMITH / OWNER          Phone:   9405520687     \n",
       "\n",
       "    status TDLR Number  \\\n",
       "0  Active   006507931C   \n",
       "1  Expired  006179570C   \n",
       "2  Active   006502097C   \n",
       "3  Expired  006494912C   \n",
       "4  Expired  0649468VSF   \n",
       "\n",
       "                                                                             URL  \n",
       "0  https://www.tdlr.texas.gov/tools_search/mccs_display.asp?mcrnumber=006507931C  \n",
       "1  https://www.tdlr.texas.gov/tools_search/mccs_display.asp?mcrnumber=006179570C  \n",
       "2  https://www.tdlr.texas.gov/tools_search/mccs_display.asp?mcrnumber=006502097C  \n",
       "3  https://www.tdlr.texas.gov/tools_search/mccs_display.asp?mcrnumber=006494912C  \n",
       "4  https://www.tdlr.texas.gov/tools_search/mccs_display.asp?mcrnumber=0649468VSF  "
      ]
     },
     "execution_count": 64,
     "metadata": {},
     "output_type": "execute_result"
    }
   ],
   "source": [
    "new_df_2 = df.head().apply(get_info_tow_truck, axis=1).join(df)\n",
    "new_df_2"
   ]
  },
  {
   "cell_type": "code",
   "execution_count": 65,
   "metadata": {},
   "outputs": [],
   "source": [
    "new_df_2.to_csv(\"tow-trucks.csv\", index=False)"
   ]
  },
  {
   "cell_type": "code",
   "execution_count": null,
   "metadata": {},
   "outputs": [],
   "source": []
  }
 ],
 "metadata": {
  "kernelspec": {
   "display_name": "Python 3",
   "language": "python",
   "name": "python3"
  },
  "language_info": {
   "codemirror_mode": {
    "name": "ipython",
    "version": 3
   },
   "file_extension": ".py",
   "mimetype": "text/x-python",
   "name": "python",
   "nbconvert_exporter": "python",
   "pygments_lexer": "ipython3",
   "version": "3.6.4"
  }
 },
 "nbformat": 4,
 "nbformat_minor": 2
}
