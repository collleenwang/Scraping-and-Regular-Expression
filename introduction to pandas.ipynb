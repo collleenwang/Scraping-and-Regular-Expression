{
 "cells": [
  {
   "cell_type": "code",
   "execution_count": 6,
   "metadata": {},
   "outputs": [],
   "source": [
    "import pandas as pd"
   ]
  },
  {
   "cell_type": "code",
   "execution_count": 7,
   "metadata": {},
   "outputs": [
    {
     "data": {
      "text/html": [
       "<div>\n",
       "<style scoped>\n",
       "    .dataframe tbody tr th:only-of-type {\n",
       "        vertical-align: middle;\n",
       "    }\n",
       "\n",
       "    .dataframe tbody tr th {\n",
       "        vertical-align: top;\n",
       "    }\n",
       "\n",
       "    .dataframe thead th {\n",
       "        text-align: right;\n",
       "    }\n",
       "</style>\n",
       "<table border=\"1\" class=\"dataframe\">\n",
       "  <thead>\n",
       "    <tr style=\"text-align: right;\">\n",
       "      <th></th>\n",
       "      <th>Country</th>\n",
       "      <th>Continent</th>\n",
       "      <th>GDP_per_capita</th>\n",
       "      <th>life_expectancy</th>\n",
       "      <th>Population</th>\n",
       "    </tr>\n",
       "  </thead>\n",
       "  <tbody>\n",
       "    <tr>\n",
       "      <th>0</th>\n",
       "      <td>Afghanistan</td>\n",
       "      <td>Asia</td>\n",
       "      <td>663</td>\n",
       "      <td>54.863</td>\n",
       "      <td>22856302</td>\n",
       "    </tr>\n",
       "    <tr>\n",
       "      <th>1</th>\n",
       "      <td>Albania</td>\n",
       "      <td>Europe</td>\n",
       "      <td>4195</td>\n",
       "      <td>74.200</td>\n",
       "      <td>3071856</td>\n",
       "    </tr>\n",
       "    <tr>\n",
       "      <th>2</th>\n",
       "      <td>Algeria</td>\n",
       "      <td>Africa</td>\n",
       "      <td>5098</td>\n",
       "      <td>68.963</td>\n",
       "      <td>30533827</td>\n",
       "    </tr>\n",
       "    <tr>\n",
       "      <th>3</th>\n",
       "      <td>Angola</td>\n",
       "      <td>Africa</td>\n",
       "      <td>2446</td>\n",
       "      <td>45.234</td>\n",
       "      <td>13926373</td>\n",
       "    </tr>\n",
       "    <tr>\n",
       "      <th>4</th>\n",
       "      <td>Antigua and Barbuda</td>\n",
       "      <td>N. America</td>\n",
       "      <td>12738</td>\n",
       "      <td>73.544</td>\n",
       "      <td>77656</td>\n",
       "    </tr>\n",
       "    <tr>\n",
       "      <th>5</th>\n",
       "      <td>Argentina</td>\n",
       "      <td>S. America</td>\n",
       "      <td>10571</td>\n",
       "      <td>73.822</td>\n",
       "      <td>36930709</td>\n",
       "    </tr>\n",
       "    <tr>\n",
       "      <th>6</th>\n",
       "      <td>Armenia</td>\n",
       "      <td>Europe</td>\n",
       "      <td>2114</td>\n",
       "      <td>71.494</td>\n",
       "      <td>3076098</td>\n",
       "    </tr>\n",
       "    <tr>\n",
       "      <th>7</th>\n",
       "      <td>Australia</td>\n",
       "      <td>Oceania</td>\n",
       "      <td>29241</td>\n",
       "      <td>79.930</td>\n",
       "      <td>19164351</td>\n",
       "    </tr>\n",
       "    <tr>\n",
       "      <th>8</th>\n",
       "      <td>Austria</td>\n",
       "      <td>Europe</td>\n",
       "      <td>32008</td>\n",
       "      <td>78.330</td>\n",
       "      <td>8004712</td>\n",
       "    </tr>\n",
       "    <tr>\n",
       "      <th>9</th>\n",
       "      <td>Azerbaijan</td>\n",
       "      <td>Europe</td>\n",
       "      <td>2533</td>\n",
       "      <td>66.851</td>\n",
       "      <td>8110723</td>\n",
       "    </tr>\n",
       "    <tr>\n",
       "      <th>10</th>\n",
       "      <td>Bahamas</td>\n",
       "      <td>N. America</td>\n",
       "      <td>22728</td>\n",
       "      <td>72.370</td>\n",
       "      <td>297651</td>\n",
       "    </tr>\n",
       "    <tr>\n",
       "      <th>11</th>\n",
       "      <td>Bahrain</td>\n",
       "      <td>Asia</td>\n",
       "      <td>22015</td>\n",
       "      <td>74.497</td>\n",
       "      <td>638193</td>\n",
       "    </tr>\n",
       "    <tr>\n",
       "      <th>12</th>\n",
       "      <td>Bangladesh</td>\n",
       "      <td>Asia</td>\n",
       "      <td>1075</td>\n",
       "      <td>65.309</td>\n",
       "      <td>129592275</td>\n",
       "    </tr>\n",
       "    <tr>\n",
       "      <th>13</th>\n",
       "      <td>Barbados</td>\n",
       "      <td>N. America</td>\n",
       "      <td>14982</td>\n",
       "      <td>73.118</td>\n",
       "      <td>267511</td>\n",
       "    </tr>\n",
       "    <tr>\n",
       "      <th>14</th>\n",
       "      <td>Belarus</td>\n",
       "      <td>Europe</td>\n",
       "      <td>5936</td>\n",
       "      <td>68.990</td>\n",
       "      <td>10057810</td>\n",
       "    </tr>\n",
       "    <tr>\n",
       "      <th>15</th>\n",
       "      <td>Belgium</td>\n",
       "      <td>Europe</td>\n",
       "      <td>29940</td>\n",
       "      <td>77.910</td>\n",
       "      <td>10175684</td>\n",
       "    </tr>\n",
       "    <tr>\n",
       "      <th>16</th>\n",
       "      <td>Belize</td>\n",
       "      <td>N. America</td>\n",
       "      <td>6545</td>\n",
       "      <td>70.425</td>\n",
       "      <td>250512</td>\n",
       "    </tr>\n",
       "    <tr>\n",
       "      <th>17</th>\n",
       "      <td>Benin</td>\n",
       "      <td>Africa</td>\n",
       "      <td>1307</td>\n",
       "      <td>55.261</td>\n",
       "      <td>6517810</td>\n",
       "    </tr>\n",
       "    <tr>\n",
       "      <th>18</th>\n",
       "      <td>Bhutan</td>\n",
       "      <td>Asia</td>\n",
       "      <td>2922</td>\n",
       "      <td>60.307</td>\n",
       "      <td>571262</td>\n",
       "    </tr>\n",
       "    <tr>\n",
       "      <th>19</th>\n",
       "      <td>Bolivia</td>\n",
       "      <td>S. America</td>\n",
       "      <td>3394</td>\n",
       "      <td>62.994</td>\n",
       "      <td>8307248</td>\n",
       "    </tr>\n",
       "    <tr>\n",
       "      <th>20</th>\n",
       "      <td>Bosnia and Herzegovina</td>\n",
       "      <td>Europe</td>\n",
       "      <td>5733</td>\n",
       "      <td>74.882</td>\n",
       "      <td>3693698</td>\n",
       "    </tr>\n",
       "    <tr>\n",
       "      <th>21</th>\n",
       "      <td>Botswana</td>\n",
       "      <td>Africa</td>\n",
       "      <td>10107</td>\n",
       "      <td>50.567</td>\n",
       "      <td>1757925</td>\n",
       "    </tr>\n",
       "    <tr>\n",
       "      <th>22</th>\n",
       "      <td>Brazil</td>\n",
       "      <td>S. America</td>\n",
       "      <td>8056</td>\n",
       "      <td>70.261</td>\n",
       "      <td>174425387</td>\n",
       "    </tr>\n",
       "    <tr>\n",
       "      <th>23</th>\n",
       "      <td>Brunei</td>\n",
       "      <td>Asia</td>\n",
       "      <td>48020</td>\n",
       "      <td>75.927</td>\n",
       "      <td>327036</td>\n",
       "    </tr>\n",
       "    <tr>\n",
       "      <th>24</th>\n",
       "      <td>Bulgaria</td>\n",
       "      <td>Europe</td>\n",
       "      <td>6907</td>\n",
       "      <td>71.590</td>\n",
       "      <td>8006158</td>\n",
       "    </tr>\n",
       "    <tr>\n",
       "      <th>25</th>\n",
       "      <td>Burkina Faso</td>\n",
       "      <td>Africa</td>\n",
       "      <td>1001</td>\n",
       "      <td>50.589</td>\n",
       "      <td>12294012</td>\n",
       "    </tr>\n",
       "    <tr>\n",
       "      <th>26</th>\n",
       "      <td>Burundi</td>\n",
       "      <td>Africa</td>\n",
       "      <td>443</td>\n",
       "      <td>48.251</td>\n",
       "      <td>6374347</td>\n",
       "    </tr>\n",
       "    <tr>\n",
       "      <th>27</th>\n",
       "      <td>Cambodia</td>\n",
       "      <td>Asia</td>\n",
       "      <td>982</td>\n",
       "      <td>62.030</td>\n",
       "      <td>12446949</td>\n",
       "    </tr>\n",
       "    <tr>\n",
       "      <th>28</th>\n",
       "      <td>Cameroon</td>\n",
       "      <td>Africa</td>\n",
       "      <td>1803</td>\n",
       "      <td>51.960</td>\n",
       "      <td>15678269</td>\n",
       "    </tr>\n",
       "    <tr>\n",
       "      <th>29</th>\n",
       "      <td>Canada</td>\n",
       "      <td>N. America</td>\n",
       "      <td>32448</td>\n",
       "      <td>79.410</td>\n",
       "      <td>30667365</td>\n",
       "    </tr>\n",
       "    <tr>\n",
       "      <th>...</th>\n",
       "      <td>...</td>\n",
       "      <td>...</td>\n",
       "      <td>...</td>\n",
       "      <td>...</td>\n",
       "      <td>...</td>\n",
       "    </tr>\n",
       "    <tr>\n",
       "      <th>158</th>\n",
       "      <td>Suriname</td>\n",
       "      <td>S. America</td>\n",
       "      <td>5677</td>\n",
       "      <td>67.851</td>\n",
       "      <td>466846</td>\n",
       "    </tr>\n",
       "    <tr>\n",
       "      <th>159</th>\n",
       "      <td>Swaziland</td>\n",
       "      <td>Africa</td>\n",
       "      <td>4021</td>\n",
       "      <td>48.689</td>\n",
       "      <td>1063832</td>\n",
       "    </tr>\n",
       "    <tr>\n",
       "      <th>160</th>\n",
       "      <td>Sweden</td>\n",
       "      <td>Europe</td>\n",
       "      <td>28640</td>\n",
       "      <td>79.840</td>\n",
       "      <td>8860153</td>\n",
       "    </tr>\n",
       "    <tr>\n",
       "      <th>161</th>\n",
       "      <td>Switzerland</td>\n",
       "      <td>Europe</td>\n",
       "      <td>34386</td>\n",
       "      <td>79.990</td>\n",
       "      <td>7167908</td>\n",
       "    </tr>\n",
       "    <tr>\n",
       "      <th>162</th>\n",
       "      <td>Syria</td>\n",
       "      <td>Asia</td>\n",
       "      <td>3935</td>\n",
       "      <td>73.316</td>\n",
       "      <td>15988534</td>\n",
       "    </tr>\n",
       "    <tr>\n",
       "      <th>163</th>\n",
       "      <td>Taiwan</td>\n",
       "      <td>Asia</td>\n",
       "      <td>23525</td>\n",
       "      <td>76.020</td>\n",
       "      <td>22183000</td>\n",
       "    </tr>\n",
       "    <tr>\n",
       "      <th>164</th>\n",
       "      <td>Tajikistan</td>\n",
       "      <td>Asia</td>\n",
       "      <td>1001</td>\n",
       "      <td>63.570</td>\n",
       "      <td>6172807</td>\n",
       "    </tr>\n",
       "    <tr>\n",
       "      <th>165</th>\n",
       "      <td>Tanzania</td>\n",
       "      <td>Africa</td>\n",
       "      <td>826</td>\n",
       "      <td>50.010</td>\n",
       "      <td>34038161</td>\n",
       "    </tr>\n",
       "    <tr>\n",
       "      <th>166</th>\n",
       "      <td>Thailand</td>\n",
       "      <td>Asia</td>\n",
       "      <td>5578</td>\n",
       "      <td>70.921</td>\n",
       "      <td>63155029</td>\n",
       "    </tr>\n",
       "    <tr>\n",
       "      <th>167</th>\n",
       "      <td>Timor-Leste</td>\n",
       "      <td>Asia</td>\n",
       "      <td>2743</td>\n",
       "      <td>59.468</td>\n",
       "      <td>830089</td>\n",
       "    </tr>\n",
       "    <tr>\n",
       "      <th>168</th>\n",
       "      <td>Togo</td>\n",
       "      <td>Africa</td>\n",
       "      <td>890</td>\n",
       "      <td>53.585</td>\n",
       "      <td>4793504</td>\n",
       "    </tr>\n",
       "    <tr>\n",
       "      <th>169</th>\n",
       "      <td>Tonga</td>\n",
       "      <td>Oceania</td>\n",
       "      <td>4886</td>\n",
       "      <td>70.810</td>\n",
       "      <td>97935</td>\n",
       "    </tr>\n",
       "    <tr>\n",
       "      <th>170</th>\n",
       "      <td>Trinidad and Tobago</td>\n",
       "      <td>N. America</td>\n",
       "      <td>10496</td>\n",
       "      <td>68.533</td>\n",
       "      <td>1292058</td>\n",
       "    </tr>\n",
       "    <tr>\n",
       "      <th>171</th>\n",
       "      <td>Tunisia</td>\n",
       "      <td>Africa</td>\n",
       "      <td>5480</td>\n",
       "      <td>73.159</td>\n",
       "      <td>9456117</td>\n",
       "    </tr>\n",
       "    <tr>\n",
       "      <th>172</th>\n",
       "      <td>Turkey</td>\n",
       "      <td>Asia</td>\n",
       "      <td>6803</td>\n",
       "      <td>70.010</td>\n",
       "      <td>63627862</td>\n",
       "    </tr>\n",
       "    <tr>\n",
       "      <th>173</th>\n",
       "      <td>Turkmenistan</td>\n",
       "      <td>Asia</td>\n",
       "      <td>3289</td>\n",
       "      <td>63.925</td>\n",
       "      <td>4501419</td>\n",
       "    </tr>\n",
       "    <tr>\n",
       "      <th>174</th>\n",
       "      <td>Uganda</td>\n",
       "      <td>Africa</td>\n",
       "      <td>881</td>\n",
       "      <td>48.126</td>\n",
       "      <td>24213120</td>\n",
       "    </tr>\n",
       "    <tr>\n",
       "      <th>175</th>\n",
       "      <td>Ukraine</td>\n",
       "      <td>Europe</td>\n",
       "      <td>3700</td>\n",
       "      <td>67.790</td>\n",
       "      <td>48891792</td>\n",
       "    </tr>\n",
       "    <tr>\n",
       "      <th>176</th>\n",
       "      <td>United Arab Emirates</td>\n",
       "      <td>Asia</td>\n",
       "      <td>30012</td>\n",
       "      <td>74.163</td>\n",
       "      <td>3033491</td>\n",
       "    </tr>\n",
       "    <tr>\n",
       "      <th>177</th>\n",
       "      <td>United Kingdom</td>\n",
       "      <td>Europe</td>\n",
       "      <td>28644</td>\n",
       "      <td>78.040</td>\n",
       "      <td>58874117</td>\n",
       "    </tr>\n",
       "    <tr>\n",
       "      <th>178</th>\n",
       "      <td>United States</td>\n",
       "      <td>N. America</td>\n",
       "      <td>39758</td>\n",
       "      <td>76.800</td>\n",
       "      <td>282496310</td>\n",
       "    </tr>\n",
       "    <tr>\n",
       "      <th>179</th>\n",
       "      <td>Uruguay</td>\n",
       "      <td>S. America</td>\n",
       "      <td>9092</td>\n",
       "      <td>74.777</td>\n",
       "      <td>3319066</td>\n",
       "    </tr>\n",
       "    <tr>\n",
       "      <th>180</th>\n",
       "      <td>Uzbekistan</td>\n",
       "      <td>Asia</td>\n",
       "      <td>1635</td>\n",
       "      <td>66.999</td>\n",
       "      <td>24775610</td>\n",
       "    </tr>\n",
       "    <tr>\n",
       "      <th>181</th>\n",
       "      <td>Vanuatu</td>\n",
       "      <td>Oceania</td>\n",
       "      <td>3762</td>\n",
       "      <td>67.438</td>\n",
       "      <td>185074</td>\n",
       "    </tr>\n",
       "    <tr>\n",
       "      <th>182</th>\n",
       "      <td>Venezuela</td>\n",
       "      <td>S. America</td>\n",
       "      <td>9434</td>\n",
       "      <td>72.432</td>\n",
       "      <td>24348304</td>\n",
       "    </tr>\n",
       "    <tr>\n",
       "      <th>183</th>\n",
       "      <td>Vietnam</td>\n",
       "      <td>Asia</td>\n",
       "      <td>1577</td>\n",
       "      <td>73.777</td>\n",
       "      <td>78758010</td>\n",
       "    </tr>\n",
       "    <tr>\n",
       "      <th>184</th>\n",
       "      <td>West Bank and Gaza</td>\n",
       "      <td>Asia</td>\n",
       "      <td>7586</td>\n",
       "      <td>70.929</td>\n",
       "      <td>3198560</td>\n",
       "    </tr>\n",
       "    <tr>\n",
       "      <th>185</th>\n",
       "      <td>Yemen, Rep.</td>\n",
       "      <td>Asia</td>\n",
       "      <td>2217</td>\n",
       "      <td>60.404</td>\n",
       "      <td>17723186</td>\n",
       "    </tr>\n",
       "    <tr>\n",
       "      <th>186</th>\n",
       "      <td>Zambia</td>\n",
       "      <td>Africa</td>\n",
       "      <td>1035</td>\n",
       "      <td>41.802</td>\n",
       "      <td>10201562</td>\n",
       "    </tr>\n",
       "    <tr>\n",
       "      <th>187</th>\n",
       "      <td>Zimbabwe</td>\n",
       "      <td>Africa</td>\n",
       "      <td>745</td>\n",
       "      <td>43.976</td>\n",
       "      <td>12509477</td>\n",
       "    </tr>\n",
       "  </tbody>\n",
       "</table>\n",
       "<p>188 rows × 5 columns</p>\n",
       "</div>"
      ],
      "text/plain": [
       "                    Country   Continent  GDP_per_capita  life_expectancy  \\\n",
       "0               Afghanistan        Asia             663           54.863   \n",
       "1                   Albania      Europe            4195           74.200   \n",
       "2                   Algeria      Africa            5098           68.963   \n",
       "3                    Angola      Africa            2446           45.234   \n",
       "4       Antigua and Barbuda  N. America           12738           73.544   \n",
       "5                 Argentina  S. America           10571           73.822   \n",
       "6                   Armenia      Europe            2114           71.494   \n",
       "7                 Australia     Oceania           29241           79.930   \n",
       "8                   Austria      Europe           32008           78.330   \n",
       "9                Azerbaijan      Europe            2533           66.851   \n",
       "10                  Bahamas  N. America           22728           72.370   \n",
       "11                  Bahrain        Asia           22015           74.497   \n",
       "12               Bangladesh        Asia            1075           65.309   \n",
       "13                 Barbados  N. America           14982           73.118   \n",
       "14                  Belarus      Europe            5936           68.990   \n",
       "15                  Belgium      Europe           29940           77.910   \n",
       "16                   Belize  N. America            6545           70.425   \n",
       "17                    Benin      Africa            1307           55.261   \n",
       "18                   Bhutan        Asia            2922           60.307   \n",
       "19                  Bolivia  S. America            3394           62.994   \n",
       "20   Bosnia and Herzegovina      Europe            5733           74.882   \n",
       "21                 Botswana      Africa           10107           50.567   \n",
       "22                   Brazil  S. America            8056           70.261   \n",
       "23                   Brunei        Asia           48020           75.927   \n",
       "24                 Bulgaria      Europe            6907           71.590   \n",
       "25             Burkina Faso      Africa            1001           50.589   \n",
       "26                  Burundi      Africa             443           48.251   \n",
       "27                 Cambodia        Asia             982           62.030   \n",
       "28                 Cameroon      Africa            1803           51.960   \n",
       "29                   Canada  N. America           32448           79.410   \n",
       "..                      ...         ...             ...              ...   \n",
       "158                Suriname  S. America            5677           67.851   \n",
       "159               Swaziland      Africa            4021           48.689   \n",
       "160                  Sweden      Europe           28640           79.840   \n",
       "161             Switzerland      Europe           34386           79.990   \n",
       "162                   Syria        Asia            3935           73.316   \n",
       "163                  Taiwan        Asia           23525           76.020   \n",
       "164              Tajikistan        Asia            1001           63.570   \n",
       "165                Tanzania      Africa             826           50.010   \n",
       "166                Thailand        Asia            5578           70.921   \n",
       "167             Timor-Leste        Asia            2743           59.468   \n",
       "168                    Togo      Africa             890           53.585   \n",
       "169                   Tonga     Oceania            4886           70.810   \n",
       "170     Trinidad and Tobago  N. America           10496           68.533   \n",
       "171                 Tunisia      Africa            5480           73.159   \n",
       "172                  Turkey        Asia            6803           70.010   \n",
       "173            Turkmenistan        Asia            3289           63.925   \n",
       "174                  Uganda      Africa             881           48.126   \n",
       "175                 Ukraine      Europe            3700           67.790   \n",
       "176    United Arab Emirates        Asia           30012           74.163   \n",
       "177          United Kingdom      Europe           28644           78.040   \n",
       "178           United States  N. America           39758           76.800   \n",
       "179                 Uruguay  S. America            9092           74.777   \n",
       "180              Uzbekistan        Asia            1635           66.999   \n",
       "181                 Vanuatu     Oceania            3762           67.438   \n",
       "182               Venezuela  S. America            9434           72.432   \n",
       "183                 Vietnam        Asia            1577           73.777   \n",
       "184      West Bank and Gaza        Asia            7586           70.929   \n",
       "185             Yemen, Rep.        Asia            2217           60.404   \n",
       "186                  Zambia      Africa            1035           41.802   \n",
       "187                Zimbabwe      Africa             745           43.976   \n",
       "\n",
       "     Population  \n",
       "0      22856302  \n",
       "1       3071856  \n",
       "2      30533827  \n",
       "3      13926373  \n",
       "4         77656  \n",
       "5      36930709  \n",
       "6       3076098  \n",
       "7      19164351  \n",
       "8       8004712  \n",
       "9       8110723  \n",
       "10       297651  \n",
       "11       638193  \n",
       "12    129592275  \n",
       "13       267511  \n",
       "14     10057810  \n",
       "15     10175684  \n",
       "16       250512  \n",
       "17      6517810  \n",
       "18       571262  \n",
       "19      8307248  \n",
       "20      3693698  \n",
       "21      1757925  \n",
       "22    174425387  \n",
       "23       327036  \n",
       "24      8006158  \n",
       "25     12294012  \n",
       "26      6374347  \n",
       "27     12446949  \n",
       "28     15678269  \n",
       "29     30667365  \n",
       "..          ...  \n",
       "158      466846  \n",
       "159     1063832  \n",
       "160     8860153  \n",
       "161     7167908  \n",
       "162    15988534  \n",
       "163    22183000  \n",
       "164     6172807  \n",
       "165    34038161  \n",
       "166    63155029  \n",
       "167      830089  \n",
       "168     4793504  \n",
       "169       97935  \n",
       "170     1292058  \n",
       "171     9456117  \n",
       "172    63627862  \n",
       "173     4501419  \n",
       "174    24213120  \n",
       "175    48891792  \n",
       "176     3033491  \n",
       "177    58874117  \n",
       "178   282496310  \n",
       "179     3319066  \n",
       "180    24775610  \n",
       "181      185074  \n",
       "182    24348304  \n",
       "183    78758010  \n",
       "184     3198560  \n",
       "185    17723186  \n",
       "186    10201562  \n",
       "187    12509477  \n",
       "\n",
       "[188 rows x 5 columns]"
      ]
     },
     "execution_count": 7,
     "metadata": {},
     "output_type": "execute_result"
    }
   ],
   "source": [
    "pd.read_csv('countries.csv')"
   ]
  },
  {
   "cell_type": "code",
   "execution_count": 3,
   "metadata": {},
   "outputs": [
    {
     "data": {
      "text/plain": [
       "pandas.core.frame.DataFrame"
      ]
     },
     "execution_count": 3,
     "metadata": {},
     "output_type": "execute_result"
    }
   ],
   "source": [
    "type(pandas.read_csv('countries.csv'))"
   ]
  },
  {
   "cell_type": "code",
   "execution_count": 4,
   "metadata": {},
   "outputs": [],
   "source": [
    "df = pandas.read_csv('countries.csv')"
   ]
  },
  {
   "cell_type": "code",
   "execution_count": 8,
   "metadata": {},
   "outputs": [
    {
     "data": {
      "text/html": [
       "<div>\n",
       "<style scoped>\n",
       "    .dataframe tbody tr th:only-of-type {\n",
       "        vertical-align: middle;\n",
       "    }\n",
       "\n",
       "    .dataframe tbody tr th {\n",
       "        vertical-align: top;\n",
       "    }\n",
       "\n",
       "    .dataframe thead th {\n",
       "        text-align: right;\n",
       "    }\n",
       "</style>\n",
       "<table border=\"1\" class=\"dataframe\">\n",
       "  <thead>\n",
       "    <tr style=\"text-align: right;\">\n",
       "      <th></th>\n",
       "      <th>Country</th>\n",
       "      <th>Continent</th>\n",
       "      <th>GDP_per_capita</th>\n",
       "      <th>life_expectancy</th>\n",
       "      <th>Population</th>\n",
       "    </tr>\n",
       "  </thead>\n",
       "  <tbody>\n",
       "    <tr>\n",
       "      <th>0</th>\n",
       "      <td>Afghanistan</td>\n",
       "      <td>Asia</td>\n",
       "      <td>663</td>\n",
       "      <td>54.863</td>\n",
       "      <td>22856302</td>\n",
       "    </tr>\n",
       "    <tr>\n",
       "      <th>1</th>\n",
       "      <td>Albania</td>\n",
       "      <td>Europe</td>\n",
       "      <td>4195</td>\n",
       "      <td>74.200</td>\n",
       "      <td>3071856</td>\n",
       "    </tr>\n",
       "    <tr>\n",
       "      <th>2</th>\n",
       "      <td>Algeria</td>\n",
       "      <td>Africa</td>\n",
       "      <td>5098</td>\n",
       "      <td>68.963</td>\n",
       "      <td>30533827</td>\n",
       "    </tr>\n",
       "    <tr>\n",
       "      <th>3</th>\n",
       "      <td>Angola</td>\n",
       "      <td>Africa</td>\n",
       "      <td>2446</td>\n",
       "      <td>45.234</td>\n",
       "      <td>13926373</td>\n",
       "    </tr>\n",
       "    <tr>\n",
       "      <th>4</th>\n",
       "      <td>Antigua and Barbuda</td>\n",
       "      <td>N. America</td>\n",
       "      <td>12738</td>\n",
       "      <td>73.544</td>\n",
       "      <td>77656</td>\n",
       "    </tr>\n",
       "  </tbody>\n",
       "</table>\n",
       "</div>"
      ],
      "text/plain": [
       "               Country   Continent  GDP_per_capita  life_expectancy  \\\n",
       "0          Afghanistan        Asia             663           54.863   \n",
       "1              Albania      Europe            4195           74.200   \n",
       "2              Algeria      Africa            5098           68.963   \n",
       "3               Angola      Africa            2446           45.234   \n",
       "4  Antigua and Barbuda  N. America           12738           73.544   \n",
       "\n",
       "   Population  \n",
       "0    22856302  \n",
       "1     3071856  \n",
       "2    30533827  \n",
       "3    13926373  \n",
       "4       77656  "
      ]
     },
     "execution_count": 8,
     "metadata": {},
     "output_type": "execute_result"
    }
   ],
   "source": [
    "df.head()"
   ]
  },
  {
   "cell_type": "code",
   "execution_count": 9,
   "metadata": {},
   "outputs": [
    {
     "data": {
      "text/html": [
       "<div>\n",
       "<style scoped>\n",
       "    .dataframe tbody tr th:only-of-type {\n",
       "        vertical-align: middle;\n",
       "    }\n",
       "\n",
       "    .dataframe tbody tr th {\n",
       "        vertical-align: top;\n",
       "    }\n",
       "\n",
       "    .dataframe thead th {\n",
       "        text-align: right;\n",
       "    }\n",
       "</style>\n",
       "<table border=\"1\" class=\"dataframe\">\n",
       "  <thead>\n",
       "    <tr style=\"text-align: right;\">\n",
       "      <th></th>\n",
       "      <th>Country</th>\n",
       "      <th>Continent</th>\n",
       "      <th>GDP_per_capita</th>\n",
       "      <th>life_expectancy</th>\n",
       "      <th>Population</th>\n",
       "    </tr>\n",
       "  </thead>\n",
       "  <tbody>\n",
       "    <tr>\n",
       "      <th>183</th>\n",
       "      <td>Vietnam</td>\n",
       "      <td>Asia</td>\n",
       "      <td>1577</td>\n",
       "      <td>73.777</td>\n",
       "      <td>78758010</td>\n",
       "    </tr>\n",
       "    <tr>\n",
       "      <th>184</th>\n",
       "      <td>West Bank and Gaza</td>\n",
       "      <td>Asia</td>\n",
       "      <td>7586</td>\n",
       "      <td>70.929</td>\n",
       "      <td>3198560</td>\n",
       "    </tr>\n",
       "    <tr>\n",
       "      <th>185</th>\n",
       "      <td>Yemen, Rep.</td>\n",
       "      <td>Asia</td>\n",
       "      <td>2217</td>\n",
       "      <td>60.404</td>\n",
       "      <td>17723186</td>\n",
       "    </tr>\n",
       "    <tr>\n",
       "      <th>186</th>\n",
       "      <td>Zambia</td>\n",
       "      <td>Africa</td>\n",
       "      <td>1035</td>\n",
       "      <td>41.802</td>\n",
       "      <td>10201562</td>\n",
       "    </tr>\n",
       "    <tr>\n",
       "      <th>187</th>\n",
       "      <td>Zimbabwe</td>\n",
       "      <td>Africa</td>\n",
       "      <td>745</td>\n",
       "      <td>43.976</td>\n",
       "      <td>12509477</td>\n",
       "    </tr>\n",
       "  </tbody>\n",
       "</table>\n",
       "</div>"
      ],
      "text/plain": [
       "                Country Continent  GDP_per_capita  life_expectancy  Population\n",
       "183             Vietnam      Asia            1577           73.777    78758010\n",
       "184  West Bank and Gaza      Asia            7586           70.929     3198560\n",
       "185         Yemen, Rep.      Asia            2217           60.404    17723186\n",
       "186              Zambia    Africa            1035           41.802    10201562\n",
       "187            Zimbabwe    Africa             745           43.976    12509477"
      ]
     },
     "execution_count": 9,
     "metadata": {},
     "output_type": "execute_result"
    }
   ],
   "source": [
    "df.tail()"
   ]
  },
  {
   "cell_type": "code",
   "execution_count": 11,
   "metadata": {},
   "outputs": [
    {
     "data": {
      "text/plain": [
       "(188, 5)"
      ]
     },
     "execution_count": 11,
     "metadata": {},
     "output_type": "execute_result"
    }
   ],
   "source": [
    "df.shape"
   ]
  },
  {
   "cell_type": "code",
   "execution_count": 12,
   "metadata": {},
   "outputs": [
    {
     "data": {
      "text/plain": [
       "Country             object\n",
       "Continent           object\n",
       "GDP_per_capita       int64\n",
       "life_expectancy    float64\n",
       "Population           int64\n",
       "dtype: object"
      ]
     },
     "execution_count": 12,
     "metadata": {},
     "output_type": "execute_result"
    }
   ],
   "source": [
    "df.dtypes"
   ]
  },
  {
   "cell_type": "code",
   "execution_count": 13,
   "metadata": {},
   "outputs": [],
   "source": [
    "# The first three things \n",
    "#1.df = head(2)\n",
    "#df = shape \n",
    "#df = dtypes"
   ]
  },
  {
   "cell_type": "code",
   "execution_count": 14,
   "metadata": {},
   "outputs": [
    {
     "data": {
      "text/html": [
       "<div>\n",
       "<style scoped>\n",
       "    .dataframe tbody tr th:only-of-type {\n",
       "        vertical-align: middle;\n",
       "    }\n",
       "\n",
       "    .dataframe tbody tr th {\n",
       "        vertical-align: top;\n",
       "    }\n",
       "\n",
       "    .dataframe thead th {\n",
       "        text-align: right;\n",
       "    }\n",
       "</style>\n",
       "<table border=\"1\" class=\"dataframe\">\n",
       "  <thead>\n",
       "    <tr style=\"text-align: right;\">\n",
       "      <th></th>\n",
       "      <th>Country</th>\n",
       "      <th>Continent</th>\n",
       "      <th>GDP_per_capita</th>\n",
       "      <th>life_expectancy</th>\n",
       "      <th>Population</th>\n",
       "    </tr>\n",
       "  </thead>\n",
       "  <tbody>\n",
       "    <tr>\n",
       "      <th>0</th>\n",
       "      <td>Afghanistan</td>\n",
       "      <td>Asia</td>\n",
       "      <td>663</td>\n",
       "      <td>54.863</td>\n",
       "      <td>22856302</td>\n",
       "    </tr>\n",
       "    <tr>\n",
       "      <th>1</th>\n",
       "      <td>Albania</td>\n",
       "      <td>Europe</td>\n",
       "      <td>4195</td>\n",
       "      <td>74.200</td>\n",
       "      <td>3071856</td>\n",
       "    </tr>\n",
       "    <tr>\n",
       "      <th>2</th>\n",
       "      <td>Algeria</td>\n",
       "      <td>Africa</td>\n",
       "      <td>5098</td>\n",
       "      <td>68.963</td>\n",
       "      <td>30533827</td>\n",
       "    </tr>\n",
       "  </tbody>\n",
       "</table>\n",
       "</div>"
      ],
      "text/plain": [
       "       Country Continent  GDP_per_capita  life_expectancy  Population\n",
       "0  Afghanistan      Asia             663           54.863    22856302\n",
       "1      Albania    Europe            4195           74.200     3071856\n",
       "2      Algeria    Africa            5098           68.963    30533827"
      ]
     },
     "execution_count": 14,
     "metadata": {},
     "output_type": "execute_result"
    }
   ],
   "source": [
    "df.head(3)"
   ]
  },
  {
   "cell_type": "code",
   "execution_count": null,
   "metadata": {},
   "outputs": [],
   "source": [
    "#show the largest country in the world. to show top 5."
   ]
  },
  {
   "cell_type": "code",
   "execution_count": 16,
   "metadata": {},
   "outputs": [
    {
     "data": {
      "text/html": [
       "<div>\n",
       "<style scoped>\n",
       "    .dataframe tbody tr th:only-of-type {\n",
       "        vertical-align: middle;\n",
       "    }\n",
       "\n",
       "    .dataframe tbody tr th {\n",
       "        vertical-align: top;\n",
       "    }\n",
       "\n",
       "    .dataframe thead th {\n",
       "        text-align: right;\n",
       "    }\n",
       "</style>\n",
       "<table border=\"1\" class=\"dataframe\">\n",
       "  <thead>\n",
       "    <tr style=\"text-align: right;\">\n",
       "      <th></th>\n",
       "      <th>Country</th>\n",
       "      <th>Continent</th>\n",
       "      <th>GDP_per_capita</th>\n",
       "      <th>life_expectancy</th>\n",
       "      <th>Population</th>\n",
       "    </tr>\n",
       "  </thead>\n",
       "  <tbody>\n",
       "    <tr>\n",
       "      <th>64</th>\n",
       "      <td>Greenland</td>\n",
       "      <td>N. America</td>\n",
       "      <td>33204</td>\n",
       "      <td>67.030</td>\n",
       "      <td>56196</td>\n",
       "    </tr>\n",
       "    <tr>\n",
       "      <th>4</th>\n",
       "      <td>Antigua and Barbuda</td>\n",
       "      <td>N. America</td>\n",
       "      <td>12738</td>\n",
       "      <td>73.544</td>\n",
       "      <td>77656</td>\n",
       "    </tr>\n",
       "    <tr>\n",
       "      <th>146</th>\n",
       "      <td>Seychelles</td>\n",
       "      <td>Africa</td>\n",
       "      <td>15230</td>\n",
       "      <td>71.771</td>\n",
       "      <td>78685</td>\n",
       "    </tr>\n",
       "    <tr>\n",
       "      <th>87</th>\n",
       "      <td>Kiribati</td>\n",
       "      <td>Oceania</td>\n",
       "      <td>3501</td>\n",
       "      <td>64.642</td>\n",
       "      <td>84010</td>\n",
       "    </tr>\n",
       "    <tr>\n",
       "      <th>169</th>\n",
       "      <td>Tonga</td>\n",
       "      <td>Oceania</td>\n",
       "      <td>4886</td>\n",
       "      <td>70.810</td>\n",
       "      <td>97935</td>\n",
       "    </tr>\n",
       "  </tbody>\n",
       "</table>\n",
       "</div>"
      ],
      "text/plain": [
       "                 Country   Continent  GDP_per_capita  life_expectancy  \\\n",
       "64             Greenland  N. America           33204           67.030   \n",
       "4    Antigua and Barbuda  N. America           12738           73.544   \n",
       "146           Seychelles      Africa           15230           71.771   \n",
       "87              Kiribati     Oceania            3501           64.642   \n",
       "169                Tonga     Oceania            4886           70.810   \n",
       "\n",
       "     Population  \n",
       "64        56196  \n",
       "4         77656  \n",
       "146       78685  \n",
       "87        84010  \n",
       "169       97935  "
      ]
     },
     "execution_count": 16,
     "metadata": {},
     "output_type": "execute_result"
    }
   ],
   "source": [
    "df.sort_values(by =\"Population\").head(5)"
   ]
  },
  {
   "cell_type": "code",
   "execution_count": 19,
   "metadata": {},
   "outputs": [
    {
     "data": {
      "text/html": [
       "<div>\n",
       "<style scoped>\n",
       "    .dataframe tbody tr th:only-of-type {\n",
       "        vertical-align: middle;\n",
       "    }\n",
       "\n",
       "    .dataframe tbody tr th {\n",
       "        vertical-align: top;\n",
       "    }\n",
       "\n",
       "    .dataframe thead th {\n",
       "        text-align: right;\n",
       "    }\n",
       "</style>\n",
       "<table border=\"1\" class=\"dataframe\">\n",
       "  <thead>\n",
       "    <tr style=\"text-align: right;\">\n",
       "      <th></th>\n",
       "      <th>Country</th>\n",
       "      <th>Continent</th>\n",
       "      <th>GDP_per_capita</th>\n",
       "      <th>life_expectancy</th>\n",
       "      <th>Population</th>\n",
       "    </tr>\n",
       "  </thead>\n",
       "  <tbody>\n",
       "    <tr>\n",
       "      <th>34</th>\n",
       "      <td>China</td>\n",
       "      <td>Asia</td>\n",
       "      <td>3407</td>\n",
       "      <td>72.124</td>\n",
       "      <td>1269116737</td>\n",
       "    </tr>\n",
       "    <tr>\n",
       "      <th>75</th>\n",
       "      <td>India</td>\n",
       "      <td>Asia</td>\n",
       "      <td>1648</td>\n",
       "      <td>62.129</td>\n",
       "      <td>1053898107</td>\n",
       "    </tr>\n",
       "    <tr>\n",
       "      <th>178</th>\n",
       "      <td>United States</td>\n",
       "      <td>N. America</td>\n",
       "      <td>39758</td>\n",
       "      <td>76.800</td>\n",
       "      <td>282496310</td>\n",
       "    </tr>\n",
       "    <tr>\n",
       "      <th>76</th>\n",
       "      <td>Indonesia</td>\n",
       "      <td>Asia</td>\n",
       "      <td>2714</td>\n",
       "      <td>67.289</td>\n",
       "      <td>213395411</td>\n",
       "    </tr>\n",
       "    <tr>\n",
       "      <th>22</th>\n",
       "      <td>Brazil</td>\n",
       "      <td>S. America</td>\n",
       "      <td>8056</td>\n",
       "      <td>70.261</td>\n",
       "      <td>174425387</td>\n",
       "    </tr>\n",
       "  </tbody>\n",
       "</table>\n",
       "</div>"
      ],
      "text/plain": [
       "           Country   Continent  GDP_per_capita  life_expectancy  Population\n",
       "34           China        Asia            3407           72.124  1269116737\n",
       "75           India        Asia            1648           62.129  1053898107\n",
       "178  United States  N. America           39758           76.800   282496310\n",
       "76       Indonesia        Asia            2714           67.289   213395411\n",
       "22          Brazil  S. America            8056           70.261   174425387"
      ]
     },
     "execution_count": 19,
     "metadata": {},
     "output_type": "execute_result"
    }
   ],
   "source": [
    "df.sort_values(by='Population',ascending=False).head(5)"
   ]
  },
  {
   "cell_type": "code",
   "execution_count": 21,
   "metadata": {},
   "outputs": [
    {
     "data": {
      "text/plain": [
       "pandas.core.series.Series"
      ]
     },
     "execution_count": 21,
     "metadata": {},
     "output_type": "execute_result"
    }
   ],
   "source": [
    "type(df['Continent'])"
   ]
  },
  {
   "cell_type": "code",
   "execution_count": null,
   "metadata": {},
   "outputs": [],
   "source": [
    "# series useually looks very ulgy."
   ]
  },
  {
   "cell_type": "code",
   "execution_count": 22,
   "metadata": {},
   "outputs": [
    {
     "data": {
      "text/plain": [
       "Africa        54\n",
       "Asia          48\n",
       "Europe        42\n",
       "N. America    22\n",
       "S. America    12\n",
       "Oceania       10\n",
       "Name: Continent, dtype: int64"
      ]
     },
     "execution_count": 22,
     "metadata": {},
     "output_type": "execute_result"
    }
   ],
   "source": [
    "df['Continent'].value_counts()"
   ]
  },
  {
   "cell_type": "code",
   "execution_count": 24,
   "metadata": {},
   "outputs": [
    {
     "data": {
      "text/plain": [
       "70.04150000000001"
      ]
     },
     "execution_count": 24,
     "metadata": {},
     "output_type": "execute_result"
    }
   ],
   "source": [
    "df.life_expectancy.median()"
   ]
  },
  {
   "cell_type": "code",
   "execution_count": 25,
   "metadata": {},
   "outputs": [
    {
     "data": {
      "text/plain": [
       "12502.28877463"
      ]
     },
     "execution_count": 25,
     "metadata": {},
     "output_type": "execute_result"
    }
   ],
   "source": [
    "df.life_expectancy.sum()"
   ]
  },
  {
   "cell_type": "code",
   "execution_count": 29,
   "metadata": {},
   "outputs": [
    {
     "data": {
      "text/plain": [
       "9977.558510638299"
      ]
     },
     "execution_count": 29,
     "metadata": {},
     "output_type": "execute_result"
    }
   ],
   "source": [
    "df.GDP_per_capita.mean()"
   ]
  },
  {
   "cell_type": "code",
   "execution_count": 31,
   "metadata": {},
   "outputs": [
    {
     "data": {
      "text/plain": [
       "63924"
      ]
     },
     "execution_count": 31,
     "metadata": {},
     "output_type": "execute_result"
    }
   ],
   "source": [
    "df.GDP_per_capita.max()"
   ]
  },
  {
   "cell_type": "code",
   "execution_count": 33,
   "metadata": {},
   "outputs": [],
   "source": [
    "df.sort_values?"
   ]
  },
  {
   "cell_type": "code",
   "execution_count": 37,
   "metadata": {},
   "outputs": [
    {
     "data": {
      "text/html": [
       "<div>\n",
       "<style scoped>\n",
       "    .dataframe tbody tr th:only-of-type {\n",
       "        vertical-align: middle;\n",
       "    }\n",
       "\n",
       "    .dataframe tbody tr th {\n",
       "        vertical-align: top;\n",
       "    }\n",
       "\n",
       "    .dataframe thead th {\n",
       "        text-align: right;\n",
       "    }\n",
       "</style>\n",
       "<table border=\"1\" class=\"dataframe\">\n",
       "  <thead>\n",
       "    <tr style=\"text-align: right;\">\n",
       "      <th></th>\n",
       "      <th>col1</th>\n",
       "      <th>col2</th>\n",
       "      <th>col3</th>\n",
       "    </tr>\n",
       "  </thead>\n",
       "  <tbody>\n",
       "    <tr>\n",
       "      <th>0</th>\n",
       "      <td>A</td>\n",
       "      <td>1</td>\n",
       "      <td>0</td>\n",
       "    </tr>\n",
       "    <tr>\n",
       "      <th>1</th>\n",
       "      <td>B</td>\n",
       "      <td>2</td>\n",
       "      <td>9</td>\n",
       "    </tr>\n",
       "    <tr>\n",
       "      <th>2</th>\n",
       "      <td>C</td>\n",
       "      <td>3</td>\n",
       "      <td>8</td>\n",
       "    </tr>\n",
       "    <tr>\n",
       "      <th>3</th>\n",
       "      <td>D</td>\n",
       "      <td>4</td>\n",
       "      <td>7</td>\n",
       "    </tr>\n",
       "  </tbody>\n",
       "</table>\n",
       "</div>"
      ],
      "text/plain": [
       "  col1  col2  col3\n",
       "0    A     1     0\n",
       "1    B     2     9\n",
       "2    C     3     8\n",
       "3    D     4     7"
      ]
     },
     "execution_count": 37,
     "metadata": {},
     "output_type": "execute_result"
    }
   ],
   "source": [
    "pd.DataFrame({\n",
    "    'col1':['A', 'B', 'C', 'D'],\n",
    "    'col2':[1,2,3,4],\n",
    "    'col3':[0,9,8,7],\n",
    "})"
   ]
  },
  {
   "cell_type": "code",
   "execution_count": 38,
   "metadata": {},
   "outputs": [
    {
     "data": {
      "text/plain": [
       "count    188.000000\n",
       "mean      66.501536\n",
       "std       10.298458\n",
       "min       38.123000\n",
       "25%       59.663750\n",
       "50%       70.041500\n",
       "75%       74.134500\n",
       "max       81.350000\n",
       "Name: life_expectancy, dtype: float64"
      ]
     },
     "execution_count": 38,
     "metadata": {},
     "output_type": "execute_result"
    }
   ],
   "source": [
    "df.life_expectancy.describe()"
   ]
  },
  {
   "cell_type": "code",
   "execution_count": 41,
   "metadata": {},
   "outputs": [
    {
     "data": {
      "text/html": [
       "<div>\n",
       "<style scoped>\n",
       "    .dataframe tbody tr th:only-of-type {\n",
       "        vertical-align: middle;\n",
       "    }\n",
       "\n",
       "    .dataframe tbody tr th {\n",
       "        vertical-align: top;\n",
       "    }\n",
       "\n",
       "    .dataframe thead th {\n",
       "        text-align: right;\n",
       "    }\n",
       "</style>\n",
       "<table border=\"1\" class=\"dataframe\">\n",
       "  <thead>\n",
       "    <tr style=\"text-align: right;\">\n",
       "      <th></th>\n",
       "      <th>GDP_per_capita</th>\n",
       "      <th>life_expectancy</th>\n",
       "      <th>Population</th>\n",
       "    </tr>\n",
       "  </thead>\n",
       "  <tbody>\n",
       "    <tr>\n",
       "      <th>count</th>\n",
       "      <td>188.000000</td>\n",
       "      <td>188.000000</td>\n",
       "      <td>1.880000e+02</td>\n",
       "    </tr>\n",
       "    <tr>\n",
       "      <th>mean</th>\n",
       "      <td>9977.558511</td>\n",
       "      <td>66.501536</td>\n",
       "      <td>3.252682e+07</td>\n",
       "    </tr>\n",
       "    <tr>\n",
       "      <th>std</th>\n",
       "      <td>11953.393378</td>\n",
       "      <td>10.298458</td>\n",
       "      <td>1.237952e+08</td>\n",
       "    </tr>\n",
       "    <tr>\n",
       "      <th>min</th>\n",
       "      <td>292.000000</td>\n",
       "      <td>38.123000</td>\n",
       "      <td>5.619600e+04</td>\n",
       "    </tr>\n",
       "    <tr>\n",
       "      <th>25%</th>\n",
       "      <td>1732.500000</td>\n",
       "      <td>59.663750</td>\n",
       "      <td>2.003170e+06</td>\n",
       "    </tr>\n",
       "    <tr>\n",
       "      <th>50%</th>\n",
       "      <td>5290.500000</td>\n",
       "      <td>70.041500</td>\n",
       "      <td>6.888970e+06</td>\n",
       "    </tr>\n",
       "    <tr>\n",
       "      <th>75%</th>\n",
       "      <td>12701.250000</td>\n",
       "      <td>74.134500</td>\n",
       "      <td>2.218517e+07</td>\n",
       "    </tr>\n",
       "    <tr>\n",
       "      <th>max</th>\n",
       "      <td>63924.000000</td>\n",
       "      <td>81.350000</td>\n",
       "      <td>1.269117e+09</td>\n",
       "    </tr>\n",
       "  </tbody>\n",
       "</table>\n",
       "</div>"
      ],
      "text/plain": [
       "       GDP_per_capita  life_expectancy    Population\n",
       "count      188.000000       188.000000  1.880000e+02\n",
       "mean      9977.558511        66.501536  3.252682e+07\n",
       "std      11953.393378        10.298458  1.237952e+08\n",
       "min        292.000000        38.123000  5.619600e+04\n",
       "25%       1732.500000        59.663750  2.003170e+06\n",
       "50%       5290.500000        70.041500  6.888970e+06\n",
       "75%      12701.250000        74.134500  2.218517e+07\n",
       "max      63924.000000        81.350000  1.269117e+09"
      ]
     },
     "execution_count": 41,
     "metadata": {},
     "output_type": "execute_result"
    }
   ],
   "source": [
    "df.describe()"
   ]
  },
  {
   "cell_type": "code",
   "execution_count": 45,
   "metadata": {},
   "outputs": [
    {
     "data": {
      "text/plain": [
       "{'Africa': Int64Index([  2,   3,  17,  21,  25,  26,  28,  30,  31,  32,  36,  37,  38,\n",
       "              40,  46,  49,  51,  52,  54,  58,  59,  62,  67,  68,  86,  95,\n",
       "              96,  97, 102, 103, 106, 108, 109, 115, 116, 118, 123, 124, 138,\n",
       "             142, 144, 146, 147, 152, 153, 154, 157, 159, 165, 168, 171, 174,\n",
       "             186, 187],\n",
       "            dtype='int64'),\n",
       " 'Asia': Int64Index([  0,  11,  12,  18,  23,  27,  34,  72,  75,  76,  77,  78,  80,\n",
       "              83,  84,  85,  88,  89,  90,  91,  92,  94, 100, 104, 105, 113,\n",
       "             117, 119, 126, 127, 132, 135, 137, 143, 148, 156, 162, 163, 164,\n",
       "             166, 167, 172, 173, 176, 180, 183, 184, 185],\n",
       "            dtype='int64'),\n",
       " 'Europe': Int64Index([  1,   6,   8,   9,  14,  15,  20,  24,  41,  43,  44,  45,  53,\n",
       "              56,  57,  60,  61,  63,  73,  74,  79,  81,  93,  98,  99, 101,\n",
       "             107, 112, 114, 120, 125, 133, 134, 136, 145, 149, 150, 155, 160,\n",
       "             161, 175, 177],\n",
       "            dtype='int64'),\n",
       " 'N. America': Int64Index([  4,  10,  13,  16,  29,  39,  42,  47,  50,  64,  65,  66,  70,\n",
       "              71,  82, 110, 122, 128, 139, 140, 170, 178],\n",
       "            dtype='int64'),\n",
       " 'Oceania': Int64Index([7, 55, 87, 111, 121, 129, 141, 151, 169, 181], dtype='int64'),\n",
       " 'S. America': Int64Index([5, 19, 22, 33, 35, 48, 69, 130, 131, 158, 179, 182], dtype='int64')}"
      ]
     },
     "execution_count": 45,
     "metadata": {},
     "output_type": "execute_result"
    }
   ],
   "source": [
    "df.groupby('Continent').groups"
   ]
  },
  {
   "cell_type": "code",
   "execution_count": 48,
   "metadata": {},
   "outputs": [
    {
     "data": {
      "text/plain": [
       "Continent\n",
       "Africa        52.1025\n",
       "Asia          70.4275\n",
       "Europe        75.5800\n",
       "N. America    70.5765\n",
       "Oceania       67.4955\n",
       "S. America    70.7660\n",
       "Name: life_expectancy, dtype: float64"
      ]
     },
     "execution_count": 48,
     "metadata": {},
     "output_type": "execute_result"
    }
   ],
   "source": [
    "df.groupby('Continent')['life_expectancy'].median()"
   ]
  },
  {
   "cell_type": "code",
   "execution_count": 49,
   "metadata": {},
   "outputs": [
    {
     "data": {
      "text/plain": [
       "Continent\n",
       "Africa        52.1025\n",
       "Asia          70.4275\n",
       "Europe        75.5800\n",
       "N. America    70.5765\n",
       "Oceania       67.4955\n",
       "S. America    70.7660\n",
       "Name: life_expectancy, dtype: float64"
      ]
     },
     "execution_count": 49,
     "metadata": {},
     "output_type": "execute_result"
    }
   ],
   "source": [
    "df.groupby('Continent').life_expectancy.median()"
   ]
  },
  {
   "cell_type": "code",
   "execution_count": 50,
   "metadata": {},
   "outputs": [
    {
     "data": {
      "text/plain": [
       "Continent\n",
       "Africa         809892820\n",
       "Asia          3849172861\n",
       "Europe         596440013\n",
       "N. America     481999240\n",
       "Oceania         30272328\n",
       "S. America     347265096\n",
       "Name: Population, dtype: int64"
      ]
     },
     "execution_count": 50,
     "metadata": {},
     "output_type": "execute_result"
    }
   ],
   "source": [
    "df.groupby('Continent').Population.sum()"
   ]
  },
  {
   "cell_type": "code",
   "execution_count": null,
   "metadata": {},
   "outputs": [],
   "source": [
    "# the thing in the left is called index; the right, values"
   ]
  },
  {
   "cell_type": "code",
   "execution_count": 52,
   "metadata": {},
   "outputs": [
    {
     "data": {
      "text/plain": [
       "Continent\n",
       "Oceania         30272328\n",
       "S. America     347265096\n",
       "N. America     481999240\n",
       "Europe         596440013\n",
       "Africa         809892820\n",
       "Asia          3849172861\n",
       "Name: Population, dtype: int64"
      ]
     },
     "execution_count": 52,
     "metadata": {},
     "output_type": "execute_result"
    }
   ],
   "source": [
    "df.groupby('Continent').Population.sum().sort_values()"
   ]
  },
  {
   "cell_type": "code",
   "execution_count": 54,
   "metadata": {},
   "outputs": [
    {
     "data": {
      "text/plain": [
       "Continent\n",
       "Asia          3849172861\n",
       "Africa         809892820\n",
       "Europe         596440013\n",
       "N. America     481999240\n",
       "S. America     347265096\n",
       "Oceania         30272328\n",
       "Name: Population, dtype: int64"
      ]
     },
     "execution_count": 54,
     "metadata": {},
     "output_type": "execute_result"
    }
   ],
   "source": [
    "df.groupby('Continent').Population.sum().sort_values(ascending = False)"
   ]
  },
  {
   "cell_type": "code",
   "execution_count": 61,
   "metadata": {},
   "outputs": [
    {
     "data": {
      "text/plain": [
       "Africa        0.287234\n",
       "Asia          0.255319\n",
       "Europe        0.223404\n",
       "N. America    0.117021\n",
       "S. America    0.063830\n",
       "Oceania       0.053191\n",
       "Name: Continent, dtype: float64"
      ]
     },
     "execution_count": 61,
     "metadata": {},
     "output_type": "execute_result"
    }
   ],
   "source": [
    "df.Continent.value_counts(normalize = True)"
   ]
  },
  {
   "cell_type": "code",
   "execution_count": 62,
   "metadata": {},
   "outputs": [
    {
     "data": {
      "text/plain": [
       "Africa        28.723404\n",
       "Asia          25.531915\n",
       "Europe        22.340426\n",
       "N. America    11.702128\n",
       "S. America     6.382979\n",
       "Oceania        5.319149\n",
       "Name: Continent, dtype: float64"
      ]
     },
     "execution_count": 62,
     "metadata": {},
     "output_type": "execute_result"
    }
   ],
   "source": [
    "df.Continent.value_counts(normalize = True)*100"
   ]
  },
  {
   "cell_type": "code",
   "execution_count": 66,
   "metadata": {},
   "outputs": [
    {
     "data": {
      "text/plain": [
       "0         15153728226\n",
       "1         12886435920\n",
       "2        155661450046\n",
       "3         34063908358\n",
       "4           989182128\n",
       "5        390394524839\n",
       "6          6502871172\n",
       "7        560384787591\n",
       "8        256214821696\n",
       "9         20544461359\n",
       "10         6765011928\n",
       "11        14049818895\n",
       "12       139311695625\n",
       "13         4007849802\n",
       "14        59703160160\n",
       "15       304659978960\n",
       "16         1639601040\n",
       "17         8518777670\n",
       "18         1669227564\n",
       "19        28194799712\n",
       "20        21175970634\n",
       "21        17767347975\n",
       "22      1405170917672\n",
       "23        15704268720\n",
       "24        55298533306\n",
       "25        12306306012\n",
       "26         2823835721\n",
       "27        12222903918\n",
       "28        28267919007\n",
       "29       995094659520\n",
       "            ...      \n",
       "158        2650284742\n",
       "159        4277668472\n",
       "160      253754781920\n",
       "161      246475684488\n",
       "162       62914881290\n",
       "163      521855075000\n",
       "164        6178979807\n",
       "165       28115520986\n",
       "166      352278751762\n",
       "167        2276934127\n",
       "168        4266218560\n",
       "169         478510410\n",
       "170       13561440768\n",
       "171       51819521160\n",
       "172      432860345186\n",
       "173       14805167091\n",
       "174       21331758720\n",
       "175      180899630400\n",
       "176       91041131892\n",
       "177     1686390207348\n",
       "178    11231488292980\n",
       "179       30176948072\n",
       "180       40508122350\n",
       "181         696248388\n",
       "182      229701899936\n",
       "183      124201381770\n",
       "184       24264276160\n",
       "185       39292303362\n",
       "186       10558616670\n",
       "187        9319560365\n",
       "Length: 188, dtype: int64"
      ]
     },
     "execution_count": 66,
     "metadata": {},
     "output_type": "execute_result"
    }
   ],
   "source": [
    "df.GDP_per_capita * df.Population"
   ]
  },
  {
   "cell_type": "code",
   "execution_count": 68,
   "metadata": {},
   "outputs": [
    {
     "data": {
      "text/html": [
       "<div>\n",
       "<style scoped>\n",
       "    .dataframe tbody tr th:only-of-type {\n",
       "        vertical-align: middle;\n",
       "    }\n",
       "\n",
       "    .dataframe tbody tr th {\n",
       "        vertical-align: top;\n",
       "    }\n",
       "\n",
       "    .dataframe thead th {\n",
       "        text-align: right;\n",
       "    }\n",
       "</style>\n",
       "<table border=\"1\" class=\"dataframe\">\n",
       "  <thead>\n",
       "    <tr style=\"text-align: right;\">\n",
       "      <th></th>\n",
       "      <th>Country</th>\n",
       "      <th>Continent</th>\n",
       "      <th>GDP_per_capita</th>\n",
       "      <th>life_expectancy</th>\n",
       "      <th>Population</th>\n",
       "      <th>GDP</th>\n",
       "    </tr>\n",
       "  </thead>\n",
       "  <tbody>\n",
       "    <tr>\n",
       "      <th>0</th>\n",
       "      <td>Afghanistan</td>\n",
       "      <td>Asia</td>\n",
       "      <td>663</td>\n",
       "      <td>54.863</td>\n",
       "      <td>22856302</td>\n",
       "      <td>15153728226</td>\n",
       "    </tr>\n",
       "    <tr>\n",
       "      <th>1</th>\n",
       "      <td>Albania</td>\n",
       "      <td>Europe</td>\n",
       "      <td>4195</td>\n",
       "      <td>74.200</td>\n",
       "      <td>3071856</td>\n",
       "      <td>12886435920</td>\n",
       "    </tr>\n",
       "    <tr>\n",
       "      <th>2</th>\n",
       "      <td>Algeria</td>\n",
       "      <td>Africa</td>\n",
       "      <td>5098</td>\n",
       "      <td>68.963</td>\n",
       "      <td>30533827</td>\n",
       "      <td>155661450046</td>\n",
       "    </tr>\n",
       "    <tr>\n",
       "      <th>3</th>\n",
       "      <td>Angola</td>\n",
       "      <td>Africa</td>\n",
       "      <td>2446</td>\n",
       "      <td>45.234</td>\n",
       "      <td>13926373</td>\n",
       "      <td>34063908358</td>\n",
       "    </tr>\n",
       "    <tr>\n",
       "      <th>4</th>\n",
       "      <td>Antigua and Barbuda</td>\n",
       "      <td>N. America</td>\n",
       "      <td>12738</td>\n",
       "      <td>73.544</td>\n",
       "      <td>77656</td>\n",
       "      <td>989182128</td>\n",
       "    </tr>\n",
       "  </tbody>\n",
       "</table>\n",
       "</div>"
      ],
      "text/plain": [
       "               Country   Continent  GDP_per_capita  life_expectancy  \\\n",
       "0          Afghanistan        Asia             663           54.863   \n",
       "1              Albania      Europe            4195           74.200   \n",
       "2              Algeria      Africa            5098           68.963   \n",
       "3               Angola      Africa            2446           45.234   \n",
       "4  Antigua and Barbuda  N. America           12738           73.544   \n",
       "\n",
       "   Population           GDP  \n",
       "0    22856302   15153728226  \n",
       "1     3071856   12886435920  \n",
       "2    30533827  155661450046  \n",
       "3    13926373   34063908358  \n",
       "4       77656     989182128  "
      ]
     },
     "execution_count": 68,
     "metadata": {},
     "output_type": "execute_result"
    }
   ],
   "source": [
    "df['GDP'] = df.GDP_per_capita * df.Population\n",
    "df.head()"
   ]
  },
  {
   "cell_type": "code",
   "execution_count": null,
   "metadata": {},
   "outputs": [],
   "source": [
    "# just created a new col\"GDP\""
   ]
  },
  {
   "cell_type": "code",
   "execution_count": 72,
   "metadata": {},
   "outputs": [
    {
     "data": {
      "text/plain": [
       "0      False\n",
       "1      False\n",
       "2       True\n",
       "3       True\n",
       "4      False\n",
       "5      False\n",
       "6      False\n",
       "7      False\n",
       "8      False\n",
       "9      False\n",
       "10     False\n",
       "11     False\n",
       "12     False\n",
       "13     False\n",
       "14     False\n",
       "15     False\n",
       "16     False\n",
       "17      True\n",
       "18     False\n",
       "19     False\n",
       "20     False\n",
       "21      True\n",
       "22     False\n",
       "23     False\n",
       "24     False\n",
       "25      True\n",
       "26      True\n",
       "27     False\n",
       "28      True\n",
       "29     False\n",
       "       ...  \n",
       "158    False\n",
       "159     True\n",
       "160    False\n",
       "161    False\n",
       "162    False\n",
       "163    False\n",
       "164    False\n",
       "165     True\n",
       "166    False\n",
       "167    False\n",
       "168     True\n",
       "169    False\n",
       "170    False\n",
       "171     True\n",
       "172    False\n",
       "173    False\n",
       "174     True\n",
       "175    False\n",
       "176    False\n",
       "177    False\n",
       "178    False\n",
       "179    False\n",
       "180    False\n",
       "181    False\n",
       "182    False\n",
       "183    False\n",
       "184    False\n",
       "185    False\n",
       "186     True\n",
       "187     True\n",
       "Name: Continent, Length: 188, dtype: bool"
      ]
     },
     "execution_count": 72,
     "metadata": {},
     "output_type": "execute_result"
    }
   ],
   "source": [
    "df.Continent == 'Africa'"
   ]
  },
  {
   "cell_type": "code",
   "execution_count": 79,
   "metadata": {},
   "outputs": [
    {
     "data": {
      "text/html": [
       "<div>\n",
       "<style scoped>\n",
       "    .dataframe tbody tr th:only-of-type {\n",
       "        vertical-align: middle;\n",
       "    }\n",
       "\n",
       "    .dataframe tbody tr th {\n",
       "        vertical-align: top;\n",
       "    }\n",
       "\n",
       "    .dataframe thead th {\n",
       "        text-align: right;\n",
       "    }\n",
       "</style>\n",
       "<table border=\"1\" class=\"dataframe\">\n",
       "  <thead>\n",
       "    <tr style=\"text-align: right;\">\n",
       "      <th></th>\n",
       "      <th>Country</th>\n",
       "      <th>Continent</th>\n",
       "      <th>GDP_per_capita</th>\n",
       "      <th>life_expectancy</th>\n",
       "      <th>Population</th>\n",
       "      <th>GDP</th>\n",
       "    </tr>\n",
       "  </thead>\n",
       "  <tbody>\n",
       "    <tr>\n",
       "      <th>2</th>\n",
       "      <td>Algeria</td>\n",
       "      <td>Africa</td>\n",
       "      <td>5098</td>\n",
       "      <td>68.963</td>\n",
       "      <td>30533827</td>\n",
       "      <td>155661450046</td>\n",
       "    </tr>\n",
       "    <tr>\n",
       "      <th>3</th>\n",
       "      <td>Angola</td>\n",
       "      <td>Africa</td>\n",
       "      <td>2446</td>\n",
       "      <td>45.234</td>\n",
       "      <td>13926373</td>\n",
       "      <td>34063908358</td>\n",
       "    </tr>\n",
       "    <tr>\n",
       "      <th>17</th>\n",
       "      <td>Benin</td>\n",
       "      <td>Africa</td>\n",
       "      <td>1307</td>\n",
       "      <td>55.261</td>\n",
       "      <td>6517810</td>\n",
       "      <td>8518777670</td>\n",
       "    </tr>\n",
       "    <tr>\n",
       "      <th>21</th>\n",
       "      <td>Botswana</td>\n",
       "      <td>Africa</td>\n",
       "      <td>10107</td>\n",
       "      <td>50.567</td>\n",
       "      <td>1757925</td>\n",
       "      <td>17767347975</td>\n",
       "    </tr>\n",
       "    <tr>\n",
       "      <th>25</th>\n",
       "      <td>Burkina Faso</td>\n",
       "      <td>Africa</td>\n",
       "      <td>1001</td>\n",
       "      <td>50.589</td>\n",
       "      <td>12294012</td>\n",
       "      <td>12306306012</td>\n",
       "    </tr>\n",
       "  </tbody>\n",
       "</table>\n",
       "</div>"
      ],
      "text/plain": [
       "         Country Continent  GDP_per_capita  life_expectancy  Population  \\\n",
       "2        Algeria    Africa            5098           68.963    30533827   \n",
       "3         Angola    Africa            2446           45.234    13926373   \n",
       "17         Benin    Africa            1307           55.261     6517810   \n",
       "21      Botswana    Africa           10107           50.567     1757925   \n",
       "25  Burkina Faso    Africa            1001           50.589    12294012   \n",
       "\n",
       "             GDP  \n",
       "2   155661450046  \n",
       "3    34063908358  \n",
       "17    8518777670  \n",
       "21   17767347975  \n",
       "25   12306306012  "
      ]
     },
     "execution_count": 79,
     "metadata": {},
     "output_type": "execute_result"
    }
   ],
   "source": [
    "df[df.Continent == 'Africa'].head(5)"
   ]
  },
  {
   "cell_type": "code",
   "execution_count": null,
   "metadata": {},
   "outputs": [],
   "source": [
    "# give me the content in Continent, Africa. also use []."
   ]
  },
  {
   "cell_type": "code",
   "execution_count": 81,
   "metadata": {},
   "outputs": [
    {
     "ename": "Exception",
     "evalue": "Data must be 1-dimensional",
     "output_type": "error",
     "traceback": [
      "\u001b[0;31m---------------------------------------------------------------------------\u001b[0m",
      "\u001b[0;31mException\u001b[0m                                 Traceback (most recent call last)",
      "\u001b[0;32m<ipython-input-81-e6cd4c75d152>\u001b[0m in \u001b[0;36m<module>\u001b[0;34m()\u001b[0m\n\u001b[0;32m----> 1\u001b[0;31m \u001b[0mdf\u001b[0m\u001b[0;34m[\u001b[0m\u001b[0;34m[\u001b[0m\u001b[0mdf\u001b[0m\u001b[0;34m.\u001b[0m\u001b[0mContinent\u001b[0m \u001b[0;34m==\u001b[0m \u001b[0;34m'Africa'\u001b[0m\u001b[0;34m]\u001b[0m \u001b[0;34m&\u001b[0m \u001b[0;34m(\u001b[0m\u001b[0mdf\u001b[0m\u001b[0;34m.\u001b[0m\u001b[0mlife_expectancy\u001b[0m \u001b[0;34m>\u001b[0m \u001b[0;36m60\u001b[0m\u001b[0;34m)\u001b[0m\u001b[0;34m]\u001b[0m\u001b[0;34m\u001b[0m\u001b[0m\n\u001b[0m",
      "\u001b[0;32m~/anaconda3/lib/python3.6/site-packages/pandas/core/ops.py\u001b[0m in \u001b[0;36mwrapper\u001b[0;34m(self, other)\u001b[0m\n\u001b[1;32m    953\u001b[0m             return filler(self._constructor(\n\u001b[1;32m    954\u001b[0m                 \u001b[0mna_op\u001b[0m\u001b[0;34m(\u001b[0m\u001b[0mself\u001b[0m\u001b[0;34m.\u001b[0m\u001b[0mvalues\u001b[0m\u001b[0;34m,\u001b[0m \u001b[0mother\u001b[0m\u001b[0;34m)\u001b[0m\u001b[0;34m,\u001b[0m\u001b[0;34m\u001b[0m\u001b[0m\n\u001b[0;32m--> 955\u001b[0;31m                 index=self.index)).__finalize__(self)\n\u001b[0m\u001b[1;32m    956\u001b[0m \u001b[0;34m\u001b[0m\u001b[0m\n\u001b[1;32m    957\u001b[0m     \u001b[0;32mreturn\u001b[0m \u001b[0mwrapper\u001b[0m\u001b[0;34m\u001b[0m\u001b[0m\n",
      "\u001b[0;32m~/anaconda3/lib/python3.6/site-packages/pandas/core/series.py\u001b[0m in \u001b[0;36m__init__\u001b[0;34m(self, data, index, dtype, name, copy, fastpath)\u001b[0m\n\u001b[1;32m    262\u001b[0m             \u001b[0;32melse\u001b[0m\u001b[0;34m:\u001b[0m\u001b[0;34m\u001b[0m\u001b[0m\n\u001b[1;32m    263\u001b[0m                 data = _sanitize_array(data, index, dtype, copy,\n\u001b[0;32m--> 264\u001b[0;31m                                        raise_cast_failure=True)\n\u001b[0m\u001b[1;32m    265\u001b[0m \u001b[0;34m\u001b[0m\u001b[0m\n\u001b[1;32m    266\u001b[0m                 \u001b[0mdata\u001b[0m \u001b[0;34m=\u001b[0m \u001b[0mSingleBlockManager\u001b[0m\u001b[0;34m(\u001b[0m\u001b[0mdata\u001b[0m\u001b[0;34m,\u001b[0m \u001b[0mindex\u001b[0m\u001b[0;34m,\u001b[0m \u001b[0mfastpath\u001b[0m\u001b[0;34m=\u001b[0m\u001b[0;32mTrue\u001b[0m\u001b[0;34m)\u001b[0m\u001b[0;34m\u001b[0m\u001b[0m\n",
      "\u001b[0;32m~/anaconda3/lib/python3.6/site-packages/pandas/core/series.py\u001b[0m in \u001b[0;36m_sanitize_array\u001b[0;34m(data, index, dtype, copy, raise_cast_failure)\u001b[0m\n\u001b[1;32m   3273\u001b[0m     \u001b[0;32melif\u001b[0m \u001b[0msubarr\u001b[0m\u001b[0;34m.\u001b[0m\u001b[0mndim\u001b[0m \u001b[0;34m>\u001b[0m \u001b[0;36m1\u001b[0m\u001b[0;34m:\u001b[0m\u001b[0;34m\u001b[0m\u001b[0m\n\u001b[1;32m   3274\u001b[0m         \u001b[0;32mif\u001b[0m \u001b[0misinstance\u001b[0m\u001b[0;34m(\u001b[0m\u001b[0mdata\u001b[0m\u001b[0;34m,\u001b[0m \u001b[0mnp\u001b[0m\u001b[0;34m.\u001b[0m\u001b[0mndarray\u001b[0m\u001b[0;34m)\u001b[0m\u001b[0;34m:\u001b[0m\u001b[0;34m\u001b[0m\u001b[0m\n\u001b[0;32m-> 3275\u001b[0;31m             \u001b[0;32mraise\u001b[0m \u001b[0mException\u001b[0m\u001b[0;34m(\u001b[0m\u001b[0;34m'Data must be 1-dimensional'\u001b[0m\u001b[0;34m)\u001b[0m\u001b[0;34m\u001b[0m\u001b[0m\n\u001b[0m\u001b[1;32m   3276\u001b[0m         \u001b[0;32melse\u001b[0m\u001b[0;34m:\u001b[0m\u001b[0;34m\u001b[0m\u001b[0m\n\u001b[1;32m   3277\u001b[0m             \u001b[0msubarr\u001b[0m \u001b[0;34m=\u001b[0m \u001b[0m_asarray_tuplesafe\u001b[0m\u001b[0;34m(\u001b[0m\u001b[0mdata\u001b[0m\u001b[0;34m,\u001b[0m \u001b[0mdtype\u001b[0m\u001b[0;34m=\u001b[0m\u001b[0mdtype\u001b[0m\u001b[0;34m)\u001b[0m\u001b[0;34m\u001b[0m\u001b[0m\n",
      "\u001b[0;31mException\u001b[0m: Data must be 1-dimensional"
     ]
    }
   ],
   "source": [
    "df[[df.Continent == 'Africa'] & (df.life_expectancy > 60)]"
   ]
  },
  {
   "cell_type": "code",
   "execution_count": 82,
   "metadata": {},
   "outputs": [
    {
     "data": {
      "text/plain": [
       "<matplotlib.axes._subplots.AxesSubplot at 0x10efd67f0>"
      ]
     },
     "execution_count": 82,
     "metadata": {},
     "output_type": "execute_result"
    }
   ],
   "source": [
    "df.groupby('Continent').life_expectancy.median().plot()"
   ]
  },
  {
   "cell_type": "code",
   "execution_count": null,
   "metadata": {},
   "outputs": [],
   "source": [
    "%matplotlib inline\n",
    "# search magic command, pandas  "
   ]
  },
  {
   "cell_type": "code",
   "execution_count": 86,
   "metadata": {},
   "outputs": [
    {
     "data": {
      "text/plain": [
       "<matplotlib.axes._subplots.AxesSubplot at 0x114ab65f8>"
      ]
     },
     "execution_count": 86,
     "metadata": {},
     "output_type": "execute_result"
    },
    {
     "data": {
      "image/png": "[encoded data removed]",
      "text/plain": [
       "<matplotlib.figure.Figure at 0x114a7b3c8>"
      ]
     },
     "metadata": {},
     "output_type": "display_data"
    }
   ],
   "source": [
    "df.groupby('Continent').life_expectancy.median().plot()"
   ]
  },
  {
   "cell_type": "code",
   "execution_count": 88,
   "metadata": {},
   "outputs": [
    {
     "data": {
      "text/plain": [
       "<matplotlib.axes._subplots.AxesSubplot at 0x118186668>"
      ]
     },
     "execution_count": 88,
     "metadata": {},
     "output_type": "execute_result"
    },
    {
     "data": {
      "image/png": "[encoded data removed]",
      "text/plain": [
       "<matplotlib.figure.Figure at 0x1180a6400>"
      ]
     },
     "metadata": {},
     "output_type": "display_data"
    }
   ],
   "source": [
    "df.groupby('Continent').life_expectancy.median().plot(kind='bar')"
   ]
  },
  {
   "cell_type": "code",
   "execution_count": 89,
   "metadata": {},
   "outputs": [
    {
     "data": {
      "text/plain": [
       "<matplotlib.axes._subplots.AxesSubplot at 0x1181ed6a0>"
      ]
     },
     "execution_count": 89,
     "metadata": {},
     "output_type": "execute_result"
    },
    {
     "data": {
      "image/png": "[encoded data removed]",
      "text/plain": [
       "<matplotlib.figure.Figure at 0x1180b2f98>"
      ]
     },
     "metadata": {},
     "output_type": "display_data"
    }
   ],
   "source": [
    "df.groupby('Continent').life_expectancy.median().plot(kind='barh')"
   ]
  },
  {
   "cell_type": "code",
   "execution_count": 91,
   "metadata": {},
   "outputs": [
    {
     "data": {
      "text/plain": [
       "<matplotlib.axes._subplots.AxesSubplot at 0x1183cc4a8>"
      ]
     },
     "execution_count": 91,
     "metadata": {},
     "output_type": "execute_result"
    },
    {
     "data": {
      "image/png": "[encoded data removed]",
      "text/plain": [
       "<matplotlib.figure.Figure at 0x1183c7c50>"
      ]
     },
     "metadata": {},
     "output_type": "display_data"
    }
   ],
   "source": [
    "df.groupby('Continent').life_expectancy.median().sort_values(ascending = False).plot(kind='barh')"
   ]
  },
  {
   "cell_type": "code",
   "execution_count": 93,
   "metadata": {},
   "outputs": [
    {
     "data": {
      "text/plain": [
       "<matplotlib.axes._subplots.AxesSubplot at 0x118523438>"
      ]
     },
     "execution_count": 93,
     "metadata": {},
     "output_type": "execute_result"
    },
    {
     "data": {
      "image/png": "[encoded data removed]",
      "text/plain": [
       "<matplotlib.figure.Figure at 0x118502240>"
      ]
     },
     "metadata": {},
     "output_type": "display_data"
    }
   ],
   "source": [
    "df.plot(x='GDP_per_capita',y='life_expectancy',kind='scatter')"
   ]
  },
  {
   "cell_type": "code",
   "execution_count": null,
   "metadata": {},
   "outputs": [],
   "source": []
  }
 ],
 "metadata": {
  "kernelspec": {
   "display_name": "Python 3",
   "language": "python",
   "name": "python3"
  },
  "language_info": {
   "codemirror_mode": {
    "name": "ipython",
    "version": 3
   },
   "file_extension": ".py",
   "mimetype": "text/x-python",
   "name": "python",
   "nbconvert_exporter": "python",
   "pygments_lexer": "ipython3",
   "version": "3.6.4"
  }
 },
 "nbformat": 4,
 "nbformat_minor": 2
}
